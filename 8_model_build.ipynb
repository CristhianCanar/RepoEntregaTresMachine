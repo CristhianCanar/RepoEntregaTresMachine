{
 "cells": [
  {
   "cell_type": "code",
   "execution_count": 1,
   "metadata": {},
   "outputs": [],
   "source": [
    "import pandas as pd\n",
    "import numpy as np\n",
    "import seaborn as sns\n",
    "import matplotlib.pyplot as plt\n",
    "import random\n",
    "\n",
    "from sklearn.preprocessing import OneHotEncoder, MinMaxScaler\n",
    "import tensorflow as tf\n",
    "from tensorflow import keras\n",
    "from keras import layers"
   ]
  },
  {
   "cell_type": "code",
   "execution_count": null,
   "metadata": {},
   "outputs": [],
   "source": [
    "entradas_df_entrenamiento = pd.read_csv(\"C:\\\\Users\\\\crist\\\\Documents\\\\UNIVERSIDAD\\\\Semestre IX\\\\MachineLearning\\\\consignas\\\\RepoEntregaTres\\\\dataset_salariosDummy.csv\",\n",
    "                              delimiter= \",\", decimal= \".\")"
   ]
  },
  {
   "cell_type": "code",
   "execution_count": 5,
   "metadata": {},
   "outputs": [],
   "source": [
    "salida_df_entrenamiento = pd.read_csv(\"C:\\\\Users\\\\crist\\\\Documents\\\\UNIVERSIDAD\\\\Semestre IX\\\\MachineLearning\\\\consignas\\\\RepoEntregaTres\\\\salida_df_entrenamiento.csv\",\n",
    "                              delimiter= \",\", decimal= \".\")"
   ]
  },
  {
   "attachments": {},
   "cell_type": "markdown",
   "metadata": {},
   "source": [
    "# 8. Model build"
   ]
  }
 ],
 "metadata": {
  "kernelspec": {
   "display_name": "machine",
   "language": "python",
   "name": "python3"
  },
  "language_info": {
   "codemirror_mode": {
    "name": "ipython",
    "version": 3
   },
   "file_extension": ".py",
   "mimetype": "text/x-python",
   "name": "python",
   "nbconvert_exporter": "python",
   "pygments_lexer": "ipython3",
   "version": "3.9.16"
  },
  "orig_nbformat": 4
 },
 "nbformat": 4,
 "nbformat_minor": 2
}
