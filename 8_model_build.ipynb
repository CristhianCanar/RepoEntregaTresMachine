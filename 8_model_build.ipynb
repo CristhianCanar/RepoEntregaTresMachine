{
 "cells": [
  {
   "cell_type": "code",
   "execution_count": 1,
   "metadata": {},
   "outputs": [],
   "source": [
    "import pandas as pd\n",
    "import numpy as np\n",
    "import seaborn as sns\n",
    "import matplotlib.pyplot as plt\n",
    "import random\n",
    "\n",
    "from sklearn.preprocessing import OneHotEncoder, MinMaxScaler\n",
    "import tensorflow as tf\n",
    "from tensorflow import keras\n",
    "from keras import layers"
   ]
  },
  {
   "cell_type": "code",
   "execution_count": 338,
   "metadata": {},
   "outputs": [],
   "source": [
    "datos = pd.read_csv(\"C:\\\\Users\\\\crist\\\\Documents\\\\UNIVERSIDAD\\\\Semestre IX\\\\MachineLearning\\\\consignas\\\\RepoEntregaTres\\\\df_entrenamiento.csv\",\n",
    "                              delimiter= \",\", decimal= \".\")\n"
   ]
  },
  {
   "cell_type": "code",
   "execution_count": 379,
   "metadata": {},
   "outputs": [],
   "source": [
    "entradas_df_entrenamiento = pd.read_csv(\"C:\\\\Users\\\\crist\\\\Documents\\\\UNIVERSIDAD\\\\Semestre IX\\\\MachineLearning\\\\consignas\\\\RepoEntregaTres\\\\entradas_df_entrenamiento.csv\",\n",
    "                              delimiter= \",\", decimal= \".\")\n"
   ]
  },
  {
   "cell_type": "code",
   "execution_count": 539,
   "metadata": {},
   "outputs": [],
   "source": [
    "entradas_df_entrenamiento_var = entradas_df_entrenamiento.loc[:,[\n",
    "                                                                'education_10th',\n",
    "                                                                'education_11th',\n",
    "                                                                'education_12th',\n",
    "                                                                'education_1st-4th',\n",
    "                                                                'education_5th-6th',\n",
    "                                                                'education_7th-8th',\n",
    "                                                                'education_9th',\n",
    "                                                                'education_Assoc-acdm',\n",
    "                                                                'education_Assoc-voc',\n",
    "                                                                'education_Bachelors',\n",
    "                                                                'education_Doctorate',\n",
    "                                                                'education_HS-grad',\n",
    "                                                                'education_Masters',\n",
    "                                                                'education_Preschool',\n",
    "                                                                'education_Prof-school',\n",
    "                                                                'education_Some-college',\n",
    "                                                                'race_Amer-Indian-Eskimo',\n",
    "                                                                'race_Asian-Pac-Islander',\n",
    "                                                                'race_Black',\n",
    "                                                                'race_Other',\n",
    "                                                                'race_White',\n",
    "                                                                'age',\n",
    "                                                                'hours_per_week'\n",
    "                                                                ]]"
   ]
  },
  {
   "cell_type": "code",
   "execution_count": 487,
   "metadata": {},
   "outputs": [],
   "source": [
    "salida_df_entrenamiento = pd.read_csv(\"C:\\\\Users\\\\crist\\\\Documents\\\\UNIVERSIDAD\\\\Semestre IX\\\\MachineLearning\\\\consignas\\\\RepoEntregaTres\\\\salida_df_entrenamiento.csv\",\n",
    "                              delimiter= \",\", decimal= \".\")"
   ]
  },
  {
   "cell_type": "code",
   "execution_count": 488,
   "metadata": {},
   "outputs": [],
   "source": [
    "salida_df_entrenamiento_var = salida_df_entrenamiento[\"income_<=50K\"]"
   ]
  },
  {
   "cell_type": "markdown",
   "metadata": {},
   "source": [
    "# 7. Norm data"
   ]
  },
  {
   "cell_type": "code",
   "execution_count": 546,
   "metadata": {},
   "outputs": [],
   "source": [
    "min_max_scaler = MinMaxScaler()\n",
    "min_max_scaler.fit(entradas_df_entrenamiento_var)\n",
    "normalized_entradas_df_entrenamiento_var = min_max_scaler.transform(entradas_df_entrenamiento_var)\n",
    "normalized_entradas_df_entrenamiento_var = pd.DataFrame(normalized_entradas_df_entrenamiento_var, columns=entradas_df_entrenamiento_var.columns)"
   ]
  },
  {
   "attachments": {},
   "cell_type": "markdown",
   "metadata": {},
   "source": [
    "# 8. Model build"
   ]
  },
  {
   "attachments": {},
   "cell_type": "markdown",
   "metadata": {},
   "source": [
    "Se establece el modelo, estudiar **keras.Sequential, las funciones de activacion, y el optimizador, junto con la funcion de perdidad loss**"
   ]
  },
  {
   "cell_type": "code",
   "execution_count": 547,
   "metadata": {},
   "outputs": [],
   "source": [
    "modelo = keras.Sequential()\n",
    "modelo.add(layers.Dense(10, activation=\"tanh\", input_shape=[len(normalized_entradas_df_entrenamiento_var.keys()), ]))\n",
    "modelo.add(layers.Dense(10, activation=\"softmax\", input_shape=[len(normalized_entradas_df_entrenamiento_var.keys()), ]))\n",
    "modelo.add(layers.Dense(1, activation=\"sigmoid\"))\n"
   ]
  },
  {
   "attachments": {},
   "cell_type": "markdown",
   "metadata": {},
   "source": [
    "Se crea el algoritmo"
   ]
  },
  {
   "cell_type": "code",
   "execution_count": 548,
   "metadata": {},
   "outputs": [],
   "source": [
    "alg_entrenamiento = tf.keras.optimizers.SGD(learning_rate=0.1)\n",
    "modelo.compile(loss=\"BinaryCrossentropy\", metrics=[\"mae\", \"mse\", \"AUC\"], optimizer=alg_entrenamiento)"
   ]
  },
  {
   "attachments": {},
   "cell_type": "markdown",
   "metadata": {},
   "source": [
    "# 9. Model preview"
   ]
  },
  {
   "cell_type": "code",
   "execution_count": 549,
   "metadata": {},
   "outputs": [
    {
     "name": "stdout",
     "output_type": "stream",
     "text": [
      "Model: \"sequential_49\"\n",
      "_________________________________________________________________\n",
      " Layer (type)                Output Shape              Param #   \n",
      "=================================================================\n",
      " dense_117 (Dense)           (None, 10)                240       \n",
      "                                                                 \n",
      " dense_118 (Dense)           (None, 10)                110       \n",
      "                                                                 \n",
      " dense_119 (Dense)           (None, 1)                 11        \n",
      "                                                                 \n",
      "=================================================================\n",
      "Total params: 361\n",
      "Trainable params: 361\n",
      "Non-trainable params: 0\n",
      "_________________________________________________________________\n"
     ]
    }
   ],
   "source": [
    "modelo.summary()"
   ]
  },
  {
   "attachments": {},
   "cell_type": "markdown",
   "metadata": {},
   "source": [
    "# 10. Model probe"
   ]
  },
  {
   "cell_type": "code",
   "execution_count": 550,
   "metadata": {},
   "outputs": [
    {
     "name": "stdout",
     "output_type": "stream",
     "text": [
      "1/1 [==============================] - 0s 82ms/step\n"
     ]
    },
    {
     "data": {
      "text/plain": [
       "array([[0.52792627],\n",
       "       [0.51946896]], dtype=float32)"
      ]
     },
     "execution_count": 550,
     "metadata": {},
     "output_type": "execute_result"
    }
   ],
   "source": [
    "modelo.predict(normalized_entradas_df_entrenamiento_var[1:3])"
   ]
  },
  {
   "attachments": {},
   "cell_type": "markdown",
   "metadata": {},
   "source": [
    "# 11. Model train"
   ]
  },
  {
   "cell_type": "code",
   "execution_count": 551,
   "metadata": {},
   "outputs": [
    {
     "name": "stdout",
     "output_type": "stream",
     "text": [
      "Epoch 1/70\n",
      "300/300 [==============================] - 3s 6ms/step - loss: 0.6913 - mae: 0.4989 - mse: 0.2491 - auc: 0.5459 - val_loss: 0.6905 - val_mae: 0.4977 - val_mse: 0.2487 - val_auc: 0.6220\n",
      "Epoch 2/70\n",
      "300/300 [==============================] - 1s 4ms/step - loss: 0.6843 - mae: 0.4951 - mse: 0.2456 - auc: 0.6293 - val_loss: 0.6790 - val_mae: 0.4916 - val_mse: 0.2430 - val_auc: 0.6882\n",
      "Epoch 3/70\n",
      "300/300 [==============================] - 1s 4ms/step - loss: 0.6666 - mae: 0.4842 - mse: 0.2368 - auc: 0.6782 - val_loss: 0.6502 - val_mae: 0.4727 - val_mse: 0.2288 - val_auc: 0.7130\n",
      "Epoch 4/70\n",
      "300/300 [==============================] - 1s 4ms/step - loss: 0.6319 - mae: 0.4575 - mse: 0.2202 - auc: 0.7170 - val_loss: 0.6076 - val_mae: 0.4372 - val_mse: 0.2091 - val_auc: 0.7547\n",
      "Epoch 5/70\n",
      "300/300 [==============================] - 1s 4ms/step - loss: 0.5941 - mae: 0.4249 - mse: 0.2033 - auc: 0.7617 - val_loss: 0.5725 - val_mae: 0.4062 - val_mse: 0.1939 - val_auc: 0.7847\n",
      "Epoch 6/70\n",
      "300/300 [==============================] - 1s 4ms/step - loss: 0.5662 - mae: 0.3981 - mse: 0.1919 - auc: 0.7816 - val_loss: 0.5632 - val_mae: 0.3895 - val_mse: 0.1904 - val_auc: 0.7955\n",
      "Epoch 7/70\n",
      "300/300 [==============================] - 1s 4ms/step - loss: 0.5535 - mae: 0.3824 - mse: 0.1870 - auc: 0.7898 - val_loss: 0.5422 - val_mae: 0.3761 - val_mse: 0.1820 - val_auc: 0.7995\n",
      "Epoch 8/70\n",
      "300/300 [==============================] - 1s 4ms/step - loss: 0.5491 - mae: 0.3770 - mse: 0.1854 - auc: 0.7928 - val_loss: 0.5381 - val_mae: 0.3682 - val_mse: 0.1808 - val_auc: 0.8023\n",
      "Epoch 9/70\n",
      "300/300 [==============================] - 1s 4ms/step - loss: 0.5462 - mae: 0.3726 - mse: 0.1845 - auc: 0.7946 - val_loss: 0.5622 - val_mae: 0.3697 - val_mse: 0.1914 - val_auc: 0.8013\n",
      "Epoch 10/70\n",
      "300/300 [==============================] - 1s 4ms/step - loss: 0.5449 - mae: 0.3704 - mse: 0.1840 - auc: 0.7958 - val_loss: 0.5377 - val_mae: 0.3686 - val_mse: 0.1805 - val_auc: 0.8035\n",
      "Epoch 11/70\n",
      "300/300 [==============================] - 1s 4ms/step - loss: 0.5433 - mae: 0.3697 - mse: 0.1835 - auc: 0.7963 - val_loss: 0.5637 - val_mae: 0.3775 - val_mse: 0.1917 - val_auc: 0.8050\n",
      "Epoch 12/70\n",
      "300/300 [==============================] - 1s 4ms/step - loss: 0.5419 - mae: 0.3688 - mse: 0.1829 - auc: 0.7977 - val_loss: 0.5368 - val_mae: 0.3646 - val_mse: 0.1808 - val_auc: 0.8049\n",
      "Epoch 13/70\n",
      "300/300 [==============================] - 1s 4ms/step - loss: 0.5413 - mae: 0.3675 - mse: 0.1827 - auc: 0.7983 - val_loss: 0.5335 - val_mae: 0.3682 - val_mse: 0.1791 - val_auc: 0.8057\n",
      "Epoch 14/70\n",
      "300/300 [==============================] - 1s 4ms/step - loss: 0.5399 - mae: 0.3688 - mse: 0.1823 - auc: 0.7993 - val_loss: 0.5319 - val_mae: 0.3624 - val_mse: 0.1788 - val_auc: 0.8065\n",
      "Epoch 15/70\n",
      "300/300 [==============================] - 1s 4ms/step - loss: 0.5386 - mae: 0.3663 - mse: 0.1818 - auc: 0.8003 - val_loss: 0.5322 - val_mae: 0.3649 - val_mse: 0.1787 - val_auc: 0.8070\n",
      "Epoch 16/70\n",
      "300/300 [==============================] - 1s 4ms/step - loss: 0.5370 - mae: 0.3659 - mse: 0.1812 - auc: 0.8013 - val_loss: 0.5309 - val_mae: 0.3610 - val_mse: 0.1784 - val_auc: 0.8072\n",
      "Epoch 17/70\n",
      "300/300 [==============================] - 1s 3ms/step - loss: 0.5362 - mae: 0.3644 - mse: 0.1810 - auc: 0.8014 - val_loss: 0.5442 - val_mae: 0.3649 - val_mse: 0.1845 - val_auc: 0.8061\n",
      "Epoch 18/70\n",
      "300/300 [==============================] - 1s 3ms/step - loss: 0.5357 - mae: 0.3639 - mse: 0.1807 - auc: 0.8023 - val_loss: 0.5293 - val_mae: 0.3653 - val_mse: 0.1778 - val_auc: 0.8082\n",
      "Epoch 19/70\n",
      "300/300 [==============================] - 1s 3ms/step - loss: 0.5342 - mae: 0.3636 - mse: 0.1802 - auc: 0.8031 - val_loss: 0.5299 - val_mae: 0.3638 - val_mse: 0.1780 - val_auc: 0.8082\n",
      "Epoch 20/70\n",
      "300/300 [==============================] - 1s 3ms/step - loss: 0.5329 - mae: 0.3627 - mse: 0.1797 - auc: 0.8040 - val_loss: 0.5271 - val_mae: 0.3559 - val_mse: 0.1772 - val_auc: 0.8089\n",
      "Epoch 21/70\n",
      "300/300 [==============================] - 1s 3ms/step - loss: 0.5324 - mae: 0.3616 - mse: 0.1797 - auc: 0.8038 - val_loss: 0.5262 - val_mae: 0.3549 - val_mse: 0.1770 - val_auc: 0.8093\n",
      "Epoch 22/70\n",
      "300/300 [==============================] - 1s 3ms/step - loss: 0.5310 - mae: 0.3598 - mse: 0.1791 - auc: 0.8053 - val_loss: 0.5263 - val_mae: 0.3564 - val_mse: 0.1770 - val_auc: 0.8099\n",
      "Epoch 23/70\n",
      "300/300 [==============================] - 1s 3ms/step - loss: 0.5301 - mae: 0.3592 - mse: 0.1788 - auc: 0.8065 - val_loss: 0.5267 - val_mae: 0.3592 - val_mse: 0.1770 - val_auc: 0.8095\n",
      "Epoch 24/70\n",
      "300/300 [==============================] - 1s 4ms/step - loss: 0.5295 - mae: 0.3588 - mse: 0.1786 - auc: 0.8065 - val_loss: 0.5270 - val_mae: 0.3657 - val_mse: 0.1770 - val_auc: 0.8108\n",
      "Epoch 25/70\n",
      "300/300 [==============================] - 1s 3ms/step - loss: 0.5285 - mae: 0.3591 - mse: 0.1781 - auc: 0.8075 - val_loss: 0.5251 - val_mae: 0.3579 - val_mse: 0.1765 - val_auc: 0.8115\n",
      "Epoch 26/70\n",
      "300/300 [==============================] - 1s 3ms/step - loss: 0.5276 - mae: 0.3588 - mse: 0.1780 - auc: 0.8079 - val_loss: 0.5251 - val_mae: 0.3536 - val_mse: 0.1768 - val_auc: 0.8113\n",
      "Epoch 27/70\n",
      "300/300 [==============================] - 1s 3ms/step - loss: 0.5265 - mae: 0.3574 - mse: 0.1775 - auc: 0.8086 - val_loss: 0.5227 - val_mae: 0.3545 - val_mse: 0.1758 - val_auc: 0.8119\n",
      "Epoch 28/70\n",
      "300/300 [==============================] - 1s 3ms/step - loss: 0.5261 - mae: 0.3569 - mse: 0.1774 - auc: 0.8092 - val_loss: 0.5279 - val_mae: 0.3544 - val_mse: 0.1777 - val_auc: 0.8129\n",
      "Epoch 29/70\n",
      "300/300 [==============================] - 1s 3ms/step - loss: 0.5259 - mae: 0.3564 - mse: 0.1773 - auc: 0.8094 - val_loss: 0.5290 - val_mae: 0.3580 - val_mse: 0.1783 - val_auc: 0.8129\n",
      "Epoch 30/70\n",
      "300/300 [==============================] - 1s 3ms/step - loss: 0.5243 - mae: 0.3552 - mse: 0.1767 - auc: 0.8107 - val_loss: 0.5482 - val_mae: 0.3624 - val_mse: 0.1859 - val_auc: 0.8096\n",
      "Epoch 31/70\n",
      "300/300 [==============================] - 1s 3ms/step - loss: 0.5249 - mae: 0.3562 - mse: 0.1770 - auc: 0.8100 - val_loss: 0.5315 - val_mae: 0.3552 - val_mse: 0.1794 - val_auc: 0.8106\n",
      "Epoch 32/70\n",
      "300/300 [==============================] - 1s 3ms/step - loss: 0.5235 - mae: 0.3551 - mse: 0.1764 - auc: 0.8113 - val_loss: 0.5228 - val_mae: 0.3510 - val_mse: 0.1756 - val_auc: 0.8132\n",
      "Epoch 33/70\n",
      "300/300 [==============================] - 1s 3ms/step - loss: 0.5238 - mae: 0.3546 - mse: 0.1764 - auc: 0.8113 - val_loss: 0.5193 - val_mae: 0.3501 - val_mse: 0.1744 - val_auc: 0.8148\n",
      "Epoch 34/70\n",
      "300/300 [==============================] - 1s 3ms/step - loss: 0.5224 - mae: 0.3531 - mse: 0.1759 - auc: 0.8123 - val_loss: 0.5342 - val_mae: 0.3602 - val_mse: 0.1807 - val_auc: 0.8124\n",
      "Epoch 35/70\n",
      "300/300 [==============================] - 1s 4ms/step - loss: 0.5229 - mae: 0.3539 - mse: 0.1762 - auc: 0.8119 - val_loss: 0.5291 - val_mae: 0.3575 - val_mse: 0.1785 - val_auc: 0.8139\n",
      "Epoch 36/70\n",
      "300/300 [==============================] - 1s 3ms/step - loss: 0.5217 - mae: 0.3542 - mse: 0.1759 - auc: 0.8125 - val_loss: 0.5336 - val_mae: 0.3566 - val_mse: 0.1804 - val_auc: 0.8138\n",
      "Epoch 37/70\n",
      "300/300 [==============================] - 1s 3ms/step - loss: 0.5221 - mae: 0.3536 - mse: 0.1760 - auc: 0.8121 - val_loss: 0.5187 - val_mae: 0.3510 - val_mse: 0.1742 - val_auc: 0.8149\n",
      "Epoch 38/70\n",
      "300/300 [==============================] - 1s 3ms/step - loss: 0.5210 - mae: 0.3525 - mse: 0.1755 - auc: 0.8125 - val_loss: 0.5244 - val_mae: 0.3485 - val_mse: 0.1763 - val_auc: 0.8135\n",
      "Epoch 39/70\n",
      "300/300 [==============================] - 1s 3ms/step - loss: 0.5211 - mae: 0.3522 - mse: 0.1755 - auc: 0.8127 - val_loss: 0.5191 - val_mae: 0.3544 - val_mse: 0.1744 - val_auc: 0.8151\n",
      "Epoch 40/70\n",
      "300/300 [==============================] - 1s 3ms/step - loss: 0.5196 - mae: 0.3522 - mse: 0.1749 - auc: 0.8141 - val_loss: 0.5304 - val_mae: 0.3494 - val_mse: 0.1788 - val_auc: 0.8141\n",
      "Epoch 41/70\n",
      "300/300 [==============================] - 1s 3ms/step - loss: 0.5198 - mae: 0.3510 - mse: 0.1750 - auc: 0.8138 - val_loss: 0.5206 - val_mae: 0.3549 - val_mse: 0.1749 - val_auc: 0.8143\n",
      "Epoch 42/70\n",
      "300/300 [==============================] - 1s 3ms/step - loss: 0.5204 - mae: 0.3523 - mse: 0.1753 - auc: 0.8134 - val_loss: 0.5197 - val_mae: 0.3456 - val_mse: 0.1745 - val_auc: 0.8152\n",
      "Epoch 43/70\n",
      "300/300 [==============================] - 1s 4ms/step - loss: 0.5205 - mae: 0.3515 - mse: 0.1753 - auc: 0.8134 - val_loss: 0.5204 - val_mae: 0.3484 - val_mse: 0.1748 - val_auc: 0.8141\n",
      "Epoch 44/70\n",
      "300/300 [==============================] - 1s 4ms/step - loss: 0.5191 - mae: 0.3507 - mse: 0.1747 - auc: 0.8146 - val_loss: 0.5301 - val_mae: 0.3532 - val_mse: 0.1788 - val_auc: 0.8143\n",
      "Epoch 45/70\n",
      "300/300 [==============================] - 1s 4ms/step - loss: 0.5199 - mae: 0.3511 - mse: 0.1751 - auc: 0.8135 - val_loss: 0.5173 - val_mae: 0.3518 - val_mse: 0.1737 - val_auc: 0.8158\n",
      "Epoch 46/70\n",
      "300/300 [==============================] - 1s 4ms/step - loss: 0.5188 - mae: 0.3508 - mse: 0.1747 - auc: 0.8144 - val_loss: 0.5231 - val_mae: 0.3513 - val_mse: 0.1763 - val_auc: 0.8153\n",
      "Epoch 47/70\n",
      "300/300 [==============================] - 1s 4ms/step - loss: 0.5182 - mae: 0.3499 - mse: 0.1745 - auc: 0.8150 - val_loss: 0.5255 - val_mae: 0.3517 - val_mse: 0.1772 - val_auc: 0.8159\n",
      "Epoch 48/70\n",
      "300/300 [==============================] - 1s 4ms/step - loss: 0.5184 - mae: 0.3507 - mse: 0.1745 - auc: 0.8150 - val_loss: 0.5356 - val_mae: 0.3517 - val_mse: 0.1805 - val_auc: 0.8134\n",
      "Epoch 49/70\n",
      "300/300 [==============================] - 1s 4ms/step - loss: 0.5188 - mae: 0.3497 - mse: 0.1746 - auc: 0.8149 - val_loss: 0.5178 - val_mae: 0.3513 - val_mse: 0.1739 - val_auc: 0.8155\n",
      "Epoch 50/70\n",
      "300/300 [==============================] - 1s 4ms/step - loss: 0.5186 - mae: 0.3512 - mse: 0.1748 - auc: 0.8141 - val_loss: 0.5185 - val_mae: 0.3464 - val_mse: 0.1742 - val_auc: 0.8164\n",
      "Epoch 51/70\n",
      "300/300 [==============================] - 1s 4ms/step - loss: 0.5176 - mae: 0.3491 - mse: 0.1743 - auc: 0.8152 - val_loss: 0.5294 - val_mae: 0.3497 - val_mse: 0.1789 - val_auc: 0.8162\n",
      "Epoch 52/70\n",
      "300/300 [==============================] - 1s 4ms/step - loss: 0.5179 - mae: 0.3497 - mse: 0.1744 - auc: 0.8152 - val_loss: 0.5345 - val_mae: 0.3581 - val_mse: 0.1813 - val_auc: 0.8158\n",
      "Epoch 53/70\n",
      "300/300 [==============================] - 1s 4ms/step - loss: 0.5183 - mae: 0.3504 - mse: 0.1747 - auc: 0.8143 - val_loss: 0.5174 - val_mae: 0.3470 - val_mse: 0.1738 - val_auc: 0.8168\n",
      "Epoch 54/70\n",
      "300/300 [==============================] - 1s 4ms/step - loss: 0.5171 - mae: 0.3488 - mse: 0.1742 - auc: 0.8155 - val_loss: 0.5173 - val_mae: 0.3447 - val_mse: 0.1736 - val_auc: 0.8163\n",
      "Epoch 55/70\n",
      "300/300 [==============================] - 1s 4ms/step - loss: 0.5176 - mae: 0.3493 - mse: 0.1744 - auc: 0.8150 - val_loss: 0.5176 - val_mae: 0.3507 - val_mse: 0.1739 - val_auc: 0.8165\n",
      "Epoch 56/70\n",
      "300/300 [==============================] - 1s 4ms/step - loss: 0.5170 - mae: 0.3497 - mse: 0.1741 - auc: 0.8154 - val_loss: 0.5200 - val_mae: 0.3416 - val_mse: 0.1749 - val_auc: 0.8166\n",
      "Epoch 57/70\n",
      "300/300 [==============================] - 1s 4ms/step - loss: 0.5174 - mae: 0.3495 - mse: 0.1744 - auc: 0.8150 - val_loss: 0.5214 - val_mae: 0.3455 - val_mse: 0.1750 - val_auc: 0.8156\n",
      "Epoch 58/70\n",
      "300/300 [==============================] - 1s 4ms/step - loss: 0.5172 - mae: 0.3486 - mse: 0.1743 - auc: 0.8153 - val_loss: 0.5167 - val_mae: 0.3516 - val_mse: 0.1735 - val_auc: 0.8166\n",
      "Epoch 59/70\n",
      "300/300 [==============================] - 1s 4ms/step - loss: 0.5159 - mae: 0.3490 - mse: 0.1738 - auc: 0.8163 - val_loss: 0.5171 - val_mae: 0.3491 - val_mse: 0.1738 - val_auc: 0.8172\n",
      "Epoch 60/70\n",
      "300/300 [==============================] - 1s 4ms/step - loss: 0.5170 - mae: 0.3494 - mse: 0.1742 - auc: 0.8154 - val_loss: 0.5169 - val_mae: 0.3465 - val_mse: 0.1736 - val_auc: 0.8176\n",
      "Epoch 61/70\n",
      "300/300 [==============================] - 1s 3ms/step - loss: 0.5159 - mae: 0.3483 - mse: 0.1738 - auc: 0.8164 - val_loss: 0.5174 - val_mae: 0.3446 - val_mse: 0.1739 - val_auc: 0.8170\n",
      "Epoch 62/70\n",
      "300/300 [==============================] - 1s 3ms/step - loss: 0.5164 - mae: 0.3487 - mse: 0.1739 - auc: 0.8162 - val_loss: 0.5205 - val_mae: 0.3480 - val_mse: 0.1751 - val_auc: 0.8160\n",
      "Epoch 63/70\n",
      "300/300 [==============================] - 1s 3ms/step - loss: 0.5163 - mae: 0.3482 - mse: 0.1739 - auc: 0.8159 - val_loss: 0.5230 - val_mae: 0.3504 - val_mse: 0.1762 - val_auc: 0.8169\n",
      "Epoch 64/70\n",
      "300/300 [==============================] - 1s 3ms/step - loss: 0.5157 - mae: 0.3486 - mse: 0.1736 - auc: 0.8169 - val_loss: 0.5157 - val_mae: 0.3447 - val_mse: 0.1733 - val_auc: 0.8171\n",
      "Epoch 65/70\n",
      "300/300 [==============================] - 1s 3ms/step - loss: 0.5155 - mae: 0.3474 - mse: 0.1737 - auc: 0.8166 - val_loss: 0.5170 - val_mae: 0.3498 - val_mse: 0.1737 - val_auc: 0.8172\n",
      "Epoch 66/70\n",
      "300/300 [==============================] - 1s 3ms/step - loss: 0.5155 - mae: 0.3481 - mse: 0.1737 - auc: 0.8162 - val_loss: 0.5164 - val_mae: 0.3483 - val_mse: 0.1735 - val_auc: 0.8166\n",
      "Epoch 67/70\n",
      "300/300 [==============================] - 1s 3ms/step - loss: 0.5153 - mae: 0.3484 - mse: 0.1735 - auc: 0.8167 - val_loss: 0.5160 - val_mae: 0.3474 - val_mse: 0.1733 - val_auc: 0.8177\n",
      "Epoch 68/70\n",
      "300/300 [==============================] - 1s 4ms/step - loss: 0.5150 - mae: 0.3479 - mse: 0.1735 - auc: 0.8167 - val_loss: 0.5184 - val_mae: 0.3424 - val_mse: 0.1741 - val_auc: 0.8172\n",
      "Epoch 69/70\n",
      "300/300 [==============================] - 1s 3ms/step - loss: 0.5157 - mae: 0.3473 - mse: 0.1737 - auc: 0.8163 - val_loss: 0.5237 - val_mae: 0.3473 - val_mse: 0.1762 - val_auc: 0.8169\n",
      "Epoch 70/70\n",
      "300/300 [==============================] - 1s 3ms/step - loss: 0.5150 - mae: 0.3470 - mse: 0.1736 - auc: 0.8167 - val_loss: 0.5230 - val_mae: 0.3581 - val_mse: 0.1764 - val_auc: 0.8169\n"
     ]
    }
   ],
   "source": [
    "history = modelo.fit(\n",
    "    normalized_entradas_df_entrenamiento_var,\n",
    "    salida_df_entrenamiento_var,\n",
    "    epochs=70,\n",
    "    validation_split = 0.2,\n",
    "    verbose=1\n",
    ")"
   ]
  },
  {
   "cell_type": "code",
   "execution_count": 552,
   "metadata": {},
   "outputs": [],
   "source": [
    "historico = pd.DataFrame(history.history)\n",
    "historico[\"Epochs\"] = history.epoch"
   ]
  },
  {
   "attachments": {},
   "cell_type": "markdown",
   "metadata": {},
   "source": [
    "# 12. Model validation"
   ]
  },
  {
   "cell_type": "code",
   "execution_count": 553,
   "metadata": {},
   "outputs": [
    {
     "data": {
      "text/plain": [
       "Text(0.5, 1.0, 'Gráfica de función de error')"
      ]
     },
     "execution_count": 553,
     "metadata": {},
     "output_type": "execute_result"
    },
    {
     "data": {
      "image/png": "[encoded data removed]",
      "text/plain": [
       "<Figure size 640x480 with 1 Axes>"
      ]
     },
     "metadata": {},
     "output_type": "display_data"
    }
   ],
   "source": [
    "ax001 = sns.lineplot(data=historico, x=\"Epochs\", y=\"loss\", label = \"Función de error\")\n",
    "ax001 = sns.lineplot(data=historico, x=\"Epochs\", y=\"val_loss\", label = \"Función de error en Validación\", ax = ax001)\n",
    "sns.move_legend(ax001, \"upper left\", bbox_to_anchor=(1, 1))\n",
    "plt.title('Gráfica de función de error')"
   ]
  },
  {
   "cell_type": "code",
   "execution_count": 554,
   "metadata": {},
   "outputs": [
    {
     "data": {
      "text/plain": [
       "Text(0.5, 1.0, 'Gráfica AUC')"
      ]
     },
     "execution_count": 554,
     "metadata": {},
     "output_type": "execute_result"
    },
    {
     "data": {
      "image/png": "[encoded data removed]",
      "text/plain": [
       "<Figure size 640x480 with 1 Axes>"
      ]
     },
     "metadata": {},
     "output_type": "display_data"
    }
   ],
   "source": [
    "ax002 = sns.lineplot(data=historico, x=\"Epochs\", y=\"auc\", label = \"AUC\")\n",
    "ax002 = sns.lineplot(data=historico, x=\"Epochs\", y=\"val_auc\", label = \"AUC en Validación\", ax = ax002)\n",
    "sns.move_legend(ax002, \"upper left\", bbox_to_anchor=(1, 1))\n",
    "plt.title('Gráfica AUC')"
   ]
  },
  {
   "cell_type": "code",
   "execution_count": 555,
   "metadata": {},
   "outputs": [],
   "source": [
    "nombre_columnas_categoricas = [\n",
    "    \"workclass\",\n",
    "    \"education\",\n",
    "    \"marital_status\",\n",
    "    \"occupation\",\n",
    "    \"relationship\",\n",
    "    \"race\",\n",
    "    \"sex\",\n",
    "    \"native_country\",\n",
    "    \"income\"\n",
    "]"
   ]
  },
  {
   "cell_type": "code",
   "execution_count": 557,
   "metadata": {},
   "outputs": [],
   "source": [
    "df_pruebas = pd.read_csv(\"C:\\\\Users\\\\crist\\\\Documents\\\\UNIVERSIDAD\\\\Semestre IX\\\\MachineLearning\\\\consignas\\\\RepoEntregaTres\\\\df_pruebas.csv\",\n",
    "                              delimiter= \",\", decimal= \".\")"
   ]
  },
  {
   "cell_type": "code",
   "execution_count": 560,
   "metadata": {},
   "outputs": [
    {
     "name": "stderr",
     "output_type": "stream",
     "text": [
      "c:\\Users\\crist\\anaconda3\\envs\\machine\\lib\\site-packages\\sklearn\\preprocessing\\_encoders.py:868: FutureWarning: `sparse` was renamed to `sparse_output` in version 1.2 and will be removed in 1.4. `sparse_output` is ignored unless you leave `sparse` to its default value.\n",
      "  warnings.warn(\n"
     ]
    }
   ],
   "source": [
    "one_hot_encoder = OneHotEncoder(sparse=False)\n",
    "one_hot_encoder.fit(df_pruebas[nombre_columnas_categoricas])\n",
    "a = pd.DataFrame(one_hot_encoder.transform(df_pruebas[nombre_columnas_categoricas]), columns=one_hot_encoder.get_feature_names_out())\n",
    "a.reset_index(drop=True, inplace=True)\n",
    "b = df_pruebas.select_dtypes(np.number)\n",
    "b.reset_index(drop=True, inplace=True)\n",
    "\n",
    "nuevo_df_pruebas = pd.concat([b,a], axis=1)"
   ]
  },
  {
   "cell_type": "code",
   "execution_count": 559,
   "metadata": {},
   "outputs": [
    {
     "name": "stdout",
     "output_type": "stream",
     "text": [
      "<class 'pandas.core.frame.DataFrame'>\n",
      "RangeIndex: 2994 entries, 0 to 2993\n",
      "Data columns (total 98 columns):\n",
      " #   Column                                Non-Null Count  Dtype  \n",
      "---  ------                                --------------  -----  \n",
      " 0   index                                 2994 non-null   int64  \n",
      " 1   age                                   2994 non-null   int64  \n",
      " 2   hours_per_week                        2994 non-null   int64  \n",
      " 3   workclass_Federal-gov                 2994 non-null   float64\n",
      " 4   workclass_Local-gov                   2994 non-null   float64\n",
      " 5   workclass_Private                     2994 non-null   float64\n",
      " 6   workclass_Self-emp-inc                2994 non-null   float64\n",
      " 7   workclass_Self-emp-not-inc            2994 non-null   float64\n",
      " 8   workclass_State-gov                   2994 non-null   float64\n",
      " 9   workclass_Without-pay                 2994 non-null   float64\n",
      " 10  education_10th                        2994 non-null   float64\n",
      " 11  education_11th                        2994 non-null   float64\n",
      " 12  education_12th                        2994 non-null   float64\n",
      " 13  education_1st-4th                     2994 non-null   float64\n",
      " 14  education_5th-6th                     2994 non-null   float64\n",
      " 15  education_7th-8th                     2994 non-null   float64\n",
      " 16  education_9th                         2994 non-null   float64\n",
      " 17  education_Assoc-acdm                  2994 non-null   float64\n",
      " 18  education_Assoc-voc                   2994 non-null   float64\n",
      " 19  education_Bachelors                   2994 non-null   float64\n",
      " 20  education_Doctorate                   2994 non-null   float64\n",
      " 21  education_HS-grad                     2994 non-null   float64\n",
      " 22  education_Masters                     2994 non-null   float64\n",
      " 23  education_Preschool                   2994 non-null   float64\n",
      " 24  education_Prof-school                 2994 non-null   float64\n",
      " 25  education_Some-college                2994 non-null   float64\n",
      " 26  marital_status_Divorced               2994 non-null   float64\n",
      " 27  marital_status_Married-AF-spouse      2994 non-null   float64\n",
      " 28  marital_status_Married-civ-spouse     2994 non-null   float64\n",
      " 29  marital_status_Married-spouse-absent  2994 non-null   float64\n",
      " 30  marital_status_Never-married          2994 non-null   float64\n",
      " 31  marital_status_Separated              2994 non-null   float64\n",
      " 32  marital_status_Widowed                2994 non-null   float64\n",
      " 33  occupation_Adm-clerical               2994 non-null   float64\n",
      " 34  occupation_Craft-repair               2994 non-null   float64\n",
      " 35  occupation_Exec-managerial            2994 non-null   float64\n",
      " 36  occupation_Farming-fishing            2994 non-null   float64\n",
      " 37  occupation_Handlers-cleaners          2994 non-null   float64\n",
      " 38  occupation_Machine-op-inspct          2994 non-null   float64\n",
      " 39  occupation_Other-service              2994 non-null   float64\n",
      " 40  occupation_Priv-house-serv            2994 non-null   float64\n",
      " 41  occupation_Prof-specialty             2994 non-null   float64\n",
      " 42  occupation_Protective-serv            2994 non-null   float64\n",
      " 43  occupation_Sales                      2994 non-null   float64\n",
      " 44  occupation_Tech-support               2994 non-null   float64\n",
      " 45  occupation_Transport-moving           2994 non-null   float64\n",
      " 46  relationship_Husband                  2994 non-null   float64\n",
      " 47  relationship_Not-in-family            2994 non-null   float64\n",
      " 48  relationship_Other-relative           2994 non-null   float64\n",
      " 49  relationship_Own-child                2994 non-null   float64\n",
      " 50  relationship_Unmarried                2994 non-null   float64\n",
      " 51  relationship_Wife                     2994 non-null   float64\n",
      " 52  race_Amer-Indian-Eskimo               2994 non-null   float64\n",
      " 53  race_Asian-Pac-Islander               2994 non-null   float64\n",
      " 54  race_Black                            2994 non-null   float64\n",
      " 55  race_Other                            2994 non-null   float64\n",
      " 56  race_White                            2994 non-null   float64\n",
      " 57  sex_Female                            2994 non-null   float64\n",
      " 58  sex_Male                              2994 non-null   float64\n",
      " 59  native_country_Cambodia               2994 non-null   float64\n",
      " 60  native_country_Canada                 2994 non-null   float64\n",
      " 61  native_country_China                  2994 non-null   float64\n",
      " 62  native_country_Columbia               2994 non-null   float64\n",
      " 63  native_country_Cuba                   2994 non-null   float64\n",
      " 64  native_country_Dominican-Republic     2994 non-null   float64\n",
      " 65  native_country_Ecuador                2994 non-null   float64\n",
      " 66  native_country_El-Salvador            2994 non-null   float64\n",
      " 67  native_country_England                2994 non-null   float64\n",
      " 68  native_country_France                 2994 non-null   float64\n",
      " 69  native_country_Germany                2994 non-null   float64\n",
      " 70  native_country_Greece                 2994 non-null   float64\n",
      " 71  native_country_Guatemala              2994 non-null   float64\n",
      " 72  native_country_Haiti                  2994 non-null   float64\n",
      " 73  native_country_Honduras               2994 non-null   float64\n",
      " 74  native_country_Hong                   2994 non-null   float64\n",
      " 75  native_country_Hungary                2994 non-null   float64\n",
      " 76  native_country_India                  2994 non-null   float64\n",
      " 77  native_country_Iran                   2994 non-null   float64\n",
      " 78  native_country_Ireland                2994 non-null   float64\n",
      " 79  native_country_Italy                  2994 non-null   float64\n",
      " 80  native_country_Jamaica                2994 non-null   float64\n",
      " 81  native_country_Japan                  2994 non-null   float64\n",
      " 82  native_country_Laos                   2994 non-null   float64\n",
      " 83  native_country_Mexico                 2994 non-null   float64\n",
      " 84  native_country_Nicaragua              2994 non-null   float64\n",
      " 85  native_country_Peru                   2994 non-null   float64\n",
      " 86  native_country_Philippines            2994 non-null   float64\n",
      " 87  native_country_Poland                 2994 non-null   float64\n",
      " 88  native_country_Portugal               2994 non-null   float64\n",
      " 89  native_country_Puerto-Rico            2994 non-null   float64\n",
      " 90  native_country_South                  2994 non-null   float64\n",
      " 91  native_country_Taiwan                 2994 non-null   float64\n",
      " 92  native_country_Trinadad&Tobago        2994 non-null   float64\n",
      " 93  native_country_United-States          2994 non-null   float64\n",
      " 94  native_country_Vietnam                2994 non-null   float64\n",
      " 95  native_country_Yugoslavia             2994 non-null   float64\n",
      " 96  income_<=50K                          2994 non-null   float64\n",
      " 97  income_>50K                           2994 non-null   float64\n",
      "dtypes: float64(95), int64(3)\n",
      "memory usage: 2.2 MB\n"
     ]
    }
   ],
   "source": [
    "nuevo_df_pruebas.info()"
   ]
  },
  {
   "attachments": {},
   "cell_type": "markdown",
   "metadata": {},
   "source": [
    "# Validacion con el dataset de pruebas el modelo "
   ]
  },
  {
   "cell_type": "code",
   "execution_count": null,
   "metadata": {},
   "outputs": [],
   "source": []
  }
 ],
 "metadata": {
  "kernelspec": {
   "display_name": "machine",
   "language": "python",
   "name": "python3"
  },
  "language_info": {
   "codemirror_mode": {
    "name": "ipython",
    "version": 3
   },
   "file_extension": ".py",
   "mimetype": "text/x-python",
   "name": "python",
   "nbconvert_exporter": "python",
   "pygments_lexer": "ipython3",
   "version": "3.9.16"
  },
  "orig_nbformat": 4
 },
 "nbformat": 4,
 "nbformat_minor": 2
}
