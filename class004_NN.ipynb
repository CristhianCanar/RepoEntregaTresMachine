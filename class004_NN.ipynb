{
 "cells": [
  {
   "cell_type": "code",
   "execution_count": null,
   "metadata": {
    "ExecuteTime": {
     "end_time": "2023-03-24T09:23:05.737298Z",
     "start_time": "2023-03-24T09:23:05.717785Z"
    }
   },
   "outputs": [],
   "source": [
    "import pandas as pd\n",
    "import seaborn as sns\n",
    "from sklearn.preprocessing import OneHotEncoder, MinMaxScaler\n",
    "import numpy as np\n",
    "import tensorflow as tf\n",
    "from tensorflow import keras\n",
    "from keras import layers"
   ]
  },
  {
   "cell_type": "code",
   "execution_count": null,
   "metadata": {
    "ExecuteTime": {
     "end_time": "2023-03-24T09:23:05.922186Z",
     "start_time": "2023-03-24T09:23:05.733469Z"
    }
   },
   "outputs": [],
   "source": [
    "datos = pd.read_csv(\"../Data/Bank Marketing DataSet/bank-additional-full.csv\", sep=\";\")\n",
    "datos.info()"
   ]
  },
  {
   "cell_type": "code",
   "execution_count": null,
   "metadata": {
    "ExecuteTime": {
     "end_time": "2023-03-24T09:23:05.996927Z",
     "start_time": "2023-03-24T09:23:05.925072Z"
    }
   },
   "outputs": [],
   "source": [
    "datos.rename(columns={\"emp.var.rate\":\"emp_var_rate\", \"cons.price.idx\": \"cons_price_idx\", \"cons.conf.idx\":\"cons_conf_idx\", \"nr.employed\":\"nr_employed\"}, inplace=True)\n",
    "datos.info()"
   ]
  },
  {
   "cell_type": "code",
   "execution_count": null,
   "metadata": {
    "ExecuteTime": {
     "end_time": "2023-03-24T09:23:06.005105Z",
     "start_time": "2023-03-24T09:23:05.995675Z"
    }
   },
   "outputs": [],
   "source": [
    "datos[\"y\"].value_counts()"
   ]
  },
  {
   "cell_type": "code",
   "execution_count": null,
   "metadata": {
    "ExecuteTime": {
     "end_time": "2023-03-24T09:23:06.054460Z",
     "start_time": "2023-03-24T09:23:06.011852Z"
    },
    "collapsed": false
   },
   "outputs": [],
   "source": [
    "indices_no = datos[datos.y==\"no\"].sample(4640).index\n",
    "datos_no = datos.iloc[indices_no,]\n",
    "indices_si = datos[datos.y==\"yes\"].index\n",
    "datos_si = datos.iloc[indices_si,]\n",
    "\n",
    "datos_analysis = pd.concat([datos_no, datos_si])\n",
    "datos_analysis = datos_analysis.sample(len(datos_analysis))\n",
    "datos_analysis.reset_index(inplace=True)\n",
    "datos_analysis.info()\n"
   ]
  },
  {
   "cell_type": "code",
   "execution_count": null,
   "metadata": {
    "ExecuteTime": {
     "end_time": "2023-03-24T09:23:06.227943Z",
     "start_time": "2023-03-24T09:23:06.061951Z"
    },
    "collapsed": false
   },
   "outputs": [],
   "source": [
    "sns.boxplot(data=datos_analysis, x=\"y\", y=\"emp_var_rate\")"
   ]
  },
  {
   "cell_type": "code",
   "execution_count": null,
   "metadata": {
    "ExecuteTime": {
     "end_time": "2023-03-24T09:23:06.261716Z",
     "start_time": "2023-03-24T09:23:06.230805Z"
    }
   },
   "outputs": [],
   "source": [
    "pd.crosstab(datos_analysis.y, datos_analysis.month)"
   ]
  },
  {
   "cell_type": "code",
   "execution_count": null,
   "metadata": {
    "ExecuteTime": {
     "end_time": "2023-03-24T09:23:06.261926Z",
     "start_time": "2023-03-24T09:23:06.252798Z"
    },
    "collapsed": false
   },
   "outputs": [],
   "source": [
    "col_names_cat = [\n",
    "    \"job\",\n",
    "    \"marital\",\n",
    "    \"education\",\n",
    "    \"default\",\n",
    "    \"housing\",\n",
    "    \"loan\",\n",
    "    \"contact\",\n",
    "    \"month\",\n",
    "    \"day_of_week\",\n",
    "    \"poutcome\",\n",
    "    \"y\"\n",
    "]"
   ]
  },
  {
   "cell_type": "code",
   "execution_count": null,
   "metadata": {
    "ExecuteTime": {
     "end_time": "2023-03-24T09:23:06.342346Z",
     "start_time": "2023-03-24T09:23:06.260193Z"
    },
    "collapsed": false
   },
   "outputs": [],
   "source": [
    "one_hot_encoder = OneHotEncoder(sparse=False)\n",
    "one_hot_encoder.fit(datos_analysis[col_names_cat])\n",
    "a = pd.DataFrame(one_hot_encoder.transform(datos_analysis[col_names_cat]), columns=one_hot_encoder.get_feature_names_out())\n",
    "b = datos_analysis.select_dtypes(np.number)\n",
    "\n",
    "data_trainning = pd.concat([b,a], axis=1)"
   ]
  },
  {
   "cell_type": "code",
   "execution_count": null,
   "metadata": {
    "ExecuteTime": {
     "end_time": "2023-03-24T09:23:06.414722Z",
     "start_time": "2023-03-24T09:23:06.315871Z"
    },
    "collapsed": false
   },
   "outputs": [],
   "source": [
    "input_df = data_trainning.iloc[:,0:63]\n",
    "output_df = data_trainning[\"y_yes\"]"
   ]
  },
  {
   "cell_type": "code",
   "execution_count": null,
   "metadata": {
    "ExecuteTime": {
     "end_time": "2023-03-24T09:23:06.497235Z",
     "start_time": "2023-03-24T09:23:06.329113Z"
    },
    "collapsed": false
   },
   "outputs": [],
   "source": [
    "min_max_scaler = MinMaxScaler()\n",
    "min_max_scaler.fit(input_df)\n",
    "normalized_input_df = min_max_scaler.transform(input_df)\n",
    "normalized_input_df = pd.DataFrame(normalized_input_df, columns=input_df.columns)"
   ]
  },
  {
   "cell_type": "code",
   "execution_count": null,
   "metadata": {
    "ExecuteTime": {
     "end_time": "2023-03-24T09:23:06.578609Z",
     "start_time": "2023-03-24T09:23:06.354856Z"
    },
    "collapsed": false
   },
   "outputs": [],
   "source": [
    "modelo = keras.Sequential()\n",
    "modelo.add(layers.Dense(10, activation=\"relu\", input_shape=[len(normalized_input_df.keys()), ]))\n",
    "modelo.add(layers.Dense(10, activation=\"relu\"))\n",
    "modelo.add(layers.Dense(10, activation=\"sigmoid\"))\n",
    "modelo.add(layers.Dense(1, activation=\"softmax\"))\n",
    "\n",
    "alg_entrenamiento = tf.keras.optimizers.Adam(learning_rate=1)\n",
    "modelo.compile(loss=\"BinaryCrossentropy\", metrics=[\"mae\", \"mse\", \"AUC\"], optimizer=alg_entrenamiento)"
   ]
  },
  {
   "cell_type": "code",
   "execution_count": null,
   "metadata": {
    "ExecuteTime": {
     "end_time": "2023-03-24T09:23:06.579766Z",
     "start_time": "2023-03-24T09:23:06.405925Z"
    },
    "collapsed": false
   },
   "outputs": [],
   "source": [
    "modelo.summary()"
   ]
  },
  {
   "cell_type": "code",
   "execution_count": null,
   "metadata": {
    "ExecuteTime": {
     "end_time": "2023-03-24T09:23:06.736502Z",
     "start_time": "2023-03-24T09:23:06.435596Z"
    },
    "collapsed": false
   },
   "outputs": [],
   "source": [
    "modelo.predict(normalized_input_df[1:3])"
   ]
  },
  {
   "cell_type": "code",
   "execution_count": null,
   "metadata": {
    "ExecuteTime": {
     "end_time": "2023-03-24T09:23:46.261036Z",
     "start_time": "2023-03-24T09:23:06.604705Z"
    },
    "collapsed": false
   },
   "outputs": [],
   "source": [
    "history = modelo.fit(\n",
    "    normalized_input_df,\n",
    "    output_df,\n",
    "    epochs=100,\n",
    "    validation_split = 0.2,\n",
    "    verbose=1\n",
    ")"
   ]
  },
  {
   "cell_type": "code",
   "execution_count": null,
   "metadata": {
    "ExecuteTime": {
     "end_time": "2023-03-24T09:23:46.267607Z",
     "start_time": "2023-03-24T09:23:46.264490Z"
    },
    "collapsed": false
   },
   "outputs": [],
   "source": [
    "historico = pd.DataFrame(history.history)\n",
    "historico[\"Epochs\"] = history.epoch"
   ]
  },
  {
   "cell_type": "code",
   "execution_count": null,
   "metadata": {
    "ExecuteTime": {
     "end_time": "2023-03-24T09:23:47.565268Z",
     "start_time": "2023-03-24T09:23:46.267945Z"
    },
    "collapsed": false
   },
   "outputs": [],
   "source": [
    "ax001 = sns.lineplot(data=historico, x=\"Epochs\", y=\"loss\", label = \"Función de error\")\n",
    "ax001 = sns.lineplot(data=historico, x=\"Epochs\", y=\"val_loss\", label = \"Función de error en Validación\", ax = ax001)\n",
    "sns.move_legend(ax001, \"upper left\", bbox_to_anchor=(1, 1))"
   ]
  }
 ],
 "metadata": {
  "kernelspec": {
   "display_name": "machine",
   "language": "python",
   "name": "python3"
  },
  "language_info": {
   "codemirror_mode": {
    "name": "ipython",
    "version": 3
   },
   "file_extension": ".py",
   "mimetype": "text/x-python",
   "name": "python",
   "nbconvert_exporter": "python",
   "pygments_lexer": "ipython3",
   "version": "3.9.16"
  },
  "orig_nbformat": 4
 },
 "nbformat": 4,
 "nbformat_minor": 2
}
