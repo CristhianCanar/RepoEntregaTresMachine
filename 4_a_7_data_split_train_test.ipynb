{
 "cells": [
  {
   "cell_type": "code",
   "execution_count": 1,
   "metadata": {},
   "outputs": [],
   "source": [
    "import pandas as pd\n",
    "import numpy as np\n",
    "from sklearn.preprocessing import OneHotEncoder, MinMaxScaler"
   ]
  },
  {
   "cell_type": "code",
   "execution_count": 2,
   "metadata": {},
   "outputs": [],
   "source": [
    "datos = pd.read_csv(\"C:\\\\Users\\\\crist\\\\Documents\\\\UNIVERSIDAD\\\\Semestre IX\\\\MachineLearning\\\\consignas\\\\RepoEntregaTres\\\\data_analisis.csv\",\n",
    "                              delimiter= \",\", decimal= \".\")"
   ]
  },
  {
   "attachments": {},
   "cell_type": "markdown",
   "metadata": {},
   "source": [
    "# 4. Data split Train/Test"
   ]
  },
  {
   "attachments": {},
   "cell_type": "markdown",
   "metadata": {},
   "source": [
    "# Train"
   ]
  },
  {
   "cell_type": "code",
   "execution_count": 3,
   "metadata": {},
   "outputs": [],
   "source": [
    "df_entrenamiento = datos.sample(frac=0.8, random_state=0)"
   ]
  },
  {
   "cell_type": "code",
   "execution_count": 13,
   "metadata": {},
   "outputs": [],
   "source": [
    "df_entrenamiento.to_csv('df_entrenamiento.csv', index=False)"
   ]
  },
  {
   "cell_type": "code",
   "execution_count": 5,
   "metadata": {},
   "outputs": [
    {
     "data": {
      "text/plain": [
       "<=50K    6000\n",
       ">50K     5974\n",
       "Name: income, dtype: int64"
      ]
     },
     "execution_count": 5,
     "metadata": {},
     "output_type": "execute_result"
    }
   ],
   "source": [
    "df_entrenamiento[\"income\"].value_counts()"
   ]
  },
  {
   "attachments": {},
   "cell_type": "markdown",
   "metadata": {},
   "source": [
    "# Test"
   ]
  },
  {
   "cell_type": "code",
   "execution_count": 6,
   "metadata": {},
   "outputs": [],
   "source": [
    "df_pruebas = datos.drop(index=df_entrenamiento.index)"
   ]
  },
  {
   "cell_type": "code",
   "execution_count": 7,
   "metadata": {},
   "outputs": [],
   "source": [
    "df_pruebas.to_csv('df_pruebas.csv', index=False)"
   ]
  },
  {
   "cell_type": "code",
   "execution_count": 9,
   "metadata": {},
   "outputs": [
    {
     "data": {
      "text/plain": [
       ">50K     1510\n",
       "<=50K    1484\n",
       "Name: income, dtype: int64"
      ]
     },
     "execution_count": 9,
     "metadata": {},
     "output_type": "execute_result"
    }
   ],
   "source": [
    "df_pruebas[\"income\"].value_counts()"
   ]
  },
  {
   "attachments": {},
   "cell_type": "markdown",
   "metadata": {},
   "source": [
    "# 5. Data inspect"
   ]
  },
  {
   "cell_type": "code",
   "execution_count": 17,
   "metadata": {},
   "outputs": [
    {
     "data": {
      "text/html": [
       "<div>\n",
       "<style scoped>\n",
       "    .dataframe tbody tr th:only-of-type {\n",
       "        vertical-align: middle;\n",
       "    }\n",
       "\n",
       "    .dataframe tbody tr th {\n",
       "        vertical-align: top;\n",
       "    }\n",
       "\n",
       "    .dataframe thead th {\n",
       "        text-align: right;\n",
       "    }\n",
       "</style>\n",
       "<table border=\"1\" class=\"dataframe\">\n",
       "  <thead>\n",
       "    <tr style=\"text-align: right;\">\n",
       "      <th></th>\n",
       "      <th>index</th>\n",
       "      <th>age</th>\n",
       "      <th>hours_per_week</th>\n",
       "    </tr>\n",
       "  </thead>\n",
       "  <tbody>\n",
       "    <tr>\n",
       "      <th>count</th>\n",
       "      <td>11974.000000</td>\n",
       "      <td>11974.000000</td>\n",
       "      <td>11974.000000</td>\n",
       "    </tr>\n",
       "    <tr>\n",
       "      <th>mean</th>\n",
       "      <td>14111.038500</td>\n",
       "      <td>40.104142</td>\n",
       "      <td>42.461500</td>\n",
       "    </tr>\n",
       "    <tr>\n",
       "      <th>std</th>\n",
       "      <td>9037.986584</td>\n",
       "      <td>12.302315</td>\n",
       "      <td>11.764334</td>\n",
       "    </tr>\n",
       "    <tr>\n",
       "      <th>min</th>\n",
       "      <td>6.000000</td>\n",
       "      <td>17.000000</td>\n",
       "      <td>1.000000</td>\n",
       "    </tr>\n",
       "    <tr>\n",
       "      <th>25%</th>\n",
       "      <td>5763.750000</td>\n",
       "      <td>31.000000</td>\n",
       "      <td>40.000000</td>\n",
       "    </tr>\n",
       "    <tr>\n",
       "      <th>50%</th>\n",
       "      <td>13902.500000</td>\n",
       "      <td>40.000000</td>\n",
       "      <td>40.000000</td>\n",
       "    </tr>\n",
       "    <tr>\n",
       "      <th>75%</th>\n",
       "      <td>22033.000000</td>\n",
       "      <td>49.000000</td>\n",
       "      <td>50.000000</td>\n",
       "    </tr>\n",
       "    <tr>\n",
       "      <th>max</th>\n",
       "      <td>30039.000000</td>\n",
       "      <td>77.000000</td>\n",
       "      <td>99.000000</td>\n",
       "    </tr>\n",
       "  </tbody>\n",
       "</table>\n",
       "</div>"
      ],
      "text/plain": [
       "              index           age  hours_per_week\n",
       "count  11974.000000  11974.000000    11974.000000\n",
       "mean   14111.038500     40.104142       42.461500\n",
       "std     9037.986584     12.302315       11.764334\n",
       "min        6.000000     17.000000        1.000000\n",
       "25%     5763.750000     31.000000       40.000000\n",
       "50%    13902.500000     40.000000       40.000000\n",
       "75%    22033.000000     49.000000       50.000000\n",
       "max    30039.000000     77.000000       99.000000"
      ]
     },
     "execution_count": 17,
     "metadata": {},
     "output_type": "execute_result"
    }
   ],
   "source": [
    "df_entrenamiento.describe()"
   ]
  },
  {
   "cell_type": "code",
   "execution_count": 18,
   "metadata": {},
   "outputs": [
    {
     "data": {
      "text/html": [
       "<div>\n",
       "<style scoped>\n",
       "    .dataframe tbody tr th:only-of-type {\n",
       "        vertical-align: middle;\n",
       "    }\n",
       "\n",
       "    .dataframe tbody tr th {\n",
       "        vertical-align: top;\n",
       "    }\n",
       "\n",
       "    .dataframe thead th {\n",
       "        text-align: right;\n",
       "    }\n",
       "</style>\n",
       "<table border=\"1\" class=\"dataframe\">\n",
       "  <thead>\n",
       "    <tr style=\"text-align: right;\">\n",
       "      <th></th>\n",
       "      <th>index</th>\n",
       "      <th>age</th>\n",
       "      <th>hours_per_week</th>\n",
       "    </tr>\n",
       "  </thead>\n",
       "  <tbody>\n",
       "    <tr>\n",
       "      <th>count</th>\n",
       "      <td>2994.000000</td>\n",
       "      <td>2994.000000</td>\n",
       "      <td>2994.000000</td>\n",
       "    </tr>\n",
       "    <tr>\n",
       "      <th>mean</th>\n",
       "      <td>14132.551102</td>\n",
       "      <td>40.126921</td>\n",
       "      <td>42.726453</td>\n",
       "    </tr>\n",
       "    <tr>\n",
       "      <th>std</th>\n",
       "      <td>9074.030531</td>\n",
       "      <td>12.276002</td>\n",
       "      <td>12.092982</td>\n",
       "    </tr>\n",
       "    <tr>\n",
       "      <th>min</th>\n",
       "      <td>4.000000</td>\n",
       "      <td>17.000000</td>\n",
       "      <td>1.000000</td>\n",
       "    </tr>\n",
       "    <tr>\n",
       "      <th>25%</th>\n",
       "      <td>5865.250000</td>\n",
       "      <td>31.000000</td>\n",
       "      <td>40.000000</td>\n",
       "    </tr>\n",
       "    <tr>\n",
       "      <th>50%</th>\n",
       "      <td>13987.500000</td>\n",
       "      <td>39.000000</td>\n",
       "      <td>40.000000</td>\n",
       "    </tr>\n",
       "    <tr>\n",
       "      <th>75%</th>\n",
       "      <td>22066.000000</td>\n",
       "      <td>49.000000</td>\n",
       "      <td>50.000000</td>\n",
       "    </tr>\n",
       "    <tr>\n",
       "      <th>max</th>\n",
       "      <td>30040.000000</td>\n",
       "      <td>77.000000</td>\n",
       "      <td>99.000000</td>\n",
       "    </tr>\n",
       "  </tbody>\n",
       "</table>\n",
       "</div>"
      ],
      "text/plain": [
       "              index          age  hours_per_week\n",
       "count   2994.000000  2994.000000     2994.000000\n",
       "mean   14132.551102    40.126921       42.726453\n",
       "std     9074.030531    12.276002       12.092982\n",
       "min        4.000000    17.000000        1.000000\n",
       "25%     5865.250000    31.000000       40.000000\n",
       "50%    13987.500000    39.000000       40.000000\n",
       "75%    22066.000000    49.000000       50.000000\n",
       "max    30040.000000    77.000000       99.000000"
      ]
     },
     "execution_count": 18,
     "metadata": {},
     "output_type": "execute_result"
    }
   ],
   "source": [
    "df_pruebas.describe()"
   ]
  },
  {
   "attachments": {},
   "cell_type": "markdown",
   "metadata": {},
   "source": [
    "# 7. Norm data"
   ]
  },
  {
   "cell_type": "code",
   "execution_count": 19,
   "metadata": {},
   "outputs": [
    {
     "name": "stdout",
     "output_type": "stream",
     "text": [
      "<class 'pandas.core.frame.DataFrame'>\n",
      "Int64Index: 11974 entries, 11966 to 10747\n",
      "Data columns (total 12 columns):\n",
      " #   Column          Non-Null Count  Dtype \n",
      "---  ------          --------------  ----- \n",
      " 0   index           11974 non-null  int64 \n",
      " 1   age             11974 non-null  int64 \n",
      " 2   workclass       11974 non-null  object\n",
      " 3   education       11974 non-null  object\n",
      " 4   marital_status  11974 non-null  object\n",
      " 5   occupation      11974 non-null  object\n",
      " 6   relationship    11974 non-null  object\n",
      " 7   race            11974 non-null  object\n",
      " 8   sex             11974 non-null  object\n",
      " 9   hours_per_week  11974 non-null  int64 \n",
      " 10  native_country  11974 non-null  object\n",
      " 11  income          11974 non-null  object\n",
      "dtypes: int64(3), object(9)\n",
      "memory usage: 1.2+ MB\n"
     ]
    }
   ],
   "source": [
    "df_entrenamiento.info()"
   ]
  },
  {
   "cell_type": "code",
   "execution_count": 20,
   "metadata": {},
   "outputs": [],
   "source": [
    "nombre_columnas_categoricas = [\n",
    "    \"workclass\",\n",
    "    \"education\",\n",
    "    \"marital_status\",\n",
    "    \"occupation\",\n",
    "    \"relationship\",\n",
    "    \"race\",\n",
    "    \"sex\",\n",
    "    \"native_country\",\n",
    "    \"income\"\n",
    "]"
   ]
  },
  {
   "attachments": {},
   "cell_type": "markdown",
   "metadata": {},
   "source": [
    "Instancia del codificador para hacer variables dummys, entrenamiento y pruebas"
   ]
  },
  {
   "cell_type": "code",
   "execution_count": null,
   "metadata": {},
   "outputs": [],
   "source": [
    "one_hot_encoder = OneHotEncoder(sparse=False)\n",
    "one_hot_encoder.fit(df_entrenamiento[nombre_columnas_categoricas])"
   ]
  },
  {
   "cell_type": "code",
   "execution_count": 21,
   "metadata": {},
   "outputs": [],
   "source": [
    "a_entrenamiento = pd.DataFrame(one_hot_encoder.transform(df_entrenamiento[nombre_columnas_categoricas]), columns=one_hot_encoder.get_feature_names_out())\n",
    "a_entrenamiento.reset_index(drop=True, inplace=True)\n",
    "b_entrenamiento = df_entrenamiento.select_dtypes(np.number)\n",
    "b_entrenamiento.reset_index(drop=True, inplace=True)\n",
    "\n",
    "nuevo_df_entrenamiento = pd.concat([b_entrenamiento,a_entrenamiento], axis=1)"
   ]
  },
  {
   "cell_type": "code",
   "execution_count": null,
   "metadata": {},
   "outputs": [],
   "source": [
    "nuevo_df_entrenamiento.info()"
   ]
  },
  {
   "cell_type": "code",
   "execution_count": 23,
   "metadata": {},
   "outputs": [],
   "source": [
    "a_pruebas = pd.DataFrame(one_hot_encoder.transform(df_pruebas[nombre_columnas_categoricas]), columns=one_hot_encoder.get_feature_names_out())\n",
    "a_pruebas.reset_index(drop=True, inplace=True)\n",
    "b_pruebas = df_pruebas.select_dtypes(np.number)\n",
    "b_pruebas.reset_index(drop=True, inplace=True)\n",
    "\n",
    "nuevo_df_pruebas = pd.concat([b_pruebas,a_pruebas], axis=1)"
   ]
  },
  {
   "cell_type": "code",
   "execution_count": null,
   "metadata": {},
   "outputs": [],
   "source": [
    "nuevo_df_pruebas.info()"
   ]
  },
  {
   "attachments": {},
   "cell_type": "markdown",
   "metadata": {},
   "source": [
    "Ahora vamos a normalizar usando la misma instancia para entrenamiento y pruebas"
   ]
  },
  {
   "attachments": {},
   "cell_type": "markdown",
   "metadata": {},
   "source": [
    "# 6. Data split input/output"
   ]
  },
  {
   "cell_type": "code",
   "execution_count": 33,
   "metadata": {},
   "outputs": [],
   "source": [
    "entradas_df_entrenamiento = nuevo_df_entrenamiento.loc[:,[\n",
    "                                                            'education_10th',\n",
    "                                                            'education_11th',\n",
    "                                                            'education_12th',\n",
    "                                                            'education_1st-4th',\n",
    "                                                            'education_5th-6th',\n",
    "                                                            'education_7th-8th',\n",
    "                                                            'education_9th',\n",
    "                                                            'education_Assoc-acdm',\n",
    "                                                            'education_Assoc-voc',\n",
    "                                                            'education_Bachelors',\n",
    "                                                            'education_Doctorate',\n",
    "                                                            'education_HS-grad',\n",
    "                                                            'education_Masters',\n",
    "                                                            'education_Preschool',\n",
    "                                                            'education_Prof-school',\n",
    "                                                            'education_Some-college',\n",
    "                                                            'race_Amer-Indian-Eskimo',\n",
    "                                                            'race_Asian-Pac-Islander',\n",
    "                                                            'race_Black',\n",
    "                                                            'race_Other',\n",
    "                                                            'race_White',\n",
    "                                                            'age',\n",
    "                                                            'hours_per_week'\n",
    "                                                        ]]"
   ]
  },
  {
   "cell_type": "code",
   "execution_count": null,
   "metadata": {},
   "outputs": [],
   "source": [
    "min_max_scaler = MinMaxScaler()\n",
    "min_max_scaler.fit(entradas_df_entrenamiento)"
   ]
  },
  {
   "cell_type": "code",
   "execution_count": 35,
   "metadata": {},
   "outputs": [],
   "source": [
    "df_norm_entrenamiento = min_max_scaler.transform(entradas_df_entrenamiento)\n",
    "df_norm_entrenamiento = pd.DataFrame(df_norm_entrenamiento, columns=entradas_df_entrenamiento.columns)"
   ]
  },
  {
   "cell_type": "code",
   "execution_count": 40,
   "metadata": {},
   "outputs": [],
   "source": [
    "df_norm_entrenamiento.to_csv('entradas_df_norm_entrenamiento.csv', index=False)"
   ]
  },
  {
   "attachments": {},
   "cell_type": "markdown",
   "metadata": {},
   "source": [
    "Salida"
   ]
  },
  {
   "cell_type": "code",
   "execution_count": 43,
   "metadata": {},
   "outputs": [],
   "source": [
    "salida_df_entrenamiento = nuevo_df_entrenamiento[\"income_<=50K\"]"
   ]
  },
  {
   "cell_type": "code",
   "execution_count": 45,
   "metadata": {},
   "outputs": [],
   "source": [
    "salida_df_entrenamiento.to_csv('salida_df_entrenamiento.csv', index=False)"
   ]
  },
  {
   "attachments": {},
   "cell_type": "markdown",
   "metadata": {},
   "source": [
    "Parte pruebas"
   ]
  },
  {
   "cell_type": "code",
   "execution_count": 37,
   "metadata": {},
   "outputs": [],
   "source": [
    "entradas_df_pruebas = nuevo_df_pruebas.loc[:,[\n",
    "                                                'education_10th',\n",
    "                                                'education_11th',\n",
    "                                                'education_12th',\n",
    "                                                'education_1st-4th',\n",
    "                                                'education_5th-6th',\n",
    "                                                'education_7th-8th',\n",
    "                                                'education_9th',\n",
    "                                                'education_Assoc-acdm',\n",
    "                                                'education_Assoc-voc',\n",
    "                                                'education_Bachelors',\n",
    "                                                'education_Doctorate',\n",
    "                                                'education_HS-grad',\n",
    "                                                'education_Masters',\n",
    "                                                'education_Preschool',\n",
    "                                                'education_Prof-school',\n",
    "                                                'education_Some-college',\n",
    "                                                'race_Amer-Indian-Eskimo',\n",
    "                                                'race_Asian-Pac-Islander',\n",
    "                                                'race_Black',\n",
    "                                                'race_Other',\n",
    "                                                'race_White',\n",
    "                                                'age',\n",
    "                                                'hours_per_week'\n",
    "                                            ]]"
   ]
  },
  {
   "cell_type": "code",
   "execution_count": 38,
   "metadata": {},
   "outputs": [],
   "source": [
    "df_norm_pruebas = min_max_scaler.transform(entradas_df_pruebas)\n",
    "df_norm_pruebas = pd.DataFrame(df_norm_pruebas, columns=entradas_df_pruebas.columns)"
   ]
  },
  {
   "cell_type": "code",
   "execution_count": 41,
   "metadata": {},
   "outputs": [],
   "source": [
    "df_norm_pruebas.to_csv('entradas_df_norm_pruebas.csv', index=False)"
   ]
  },
  {
   "cell_type": "markdown",
   "metadata": {},
   "source": [
    "Salida"
   ]
  },
  {
   "cell_type": "code",
   "execution_count": null,
   "metadata": {},
   "outputs": [],
   "source": [
    "salida_df_pruebas = nuevo_df_pruebas[\"income_<=50K\"]"
   ]
  },
  {
   "cell_type": "code",
   "execution_count": null,
   "metadata": {},
   "outputs": [],
   "source": [
    "salida_df_pruebas.to_csv('salida_df_pruebas.csv', index=False)"
   ]
  }
 ],
 "metadata": {
  "kernelspec": {
   "display_name": "machine",
   "language": "python",
   "name": "python3"
  },
  "language_info": {
   "codemirror_mode": {
    "name": "ipython",
    "version": 3
   },
   "file_extension": ".py",
   "mimetype": "text/x-python",
   "name": "python",
   "nbconvert_exporter": "python",
   "pygments_lexer": "ipython3",
   "version": "3.9.16"
  },
  "orig_nbformat": 4
 },
 "nbformat": 4,
 "nbformat_minor": 2
}
