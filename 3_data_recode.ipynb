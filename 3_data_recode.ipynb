{
 "cells": [
  {
   "cell_type": "code",
   "execution_count": 1,
   "metadata": {},
   "outputs": [],
   "source": [
    "import pandas as pd\n",
    "import numpy as np\n",
    "import seaborn as sns\n",
    "import matplotlib.pyplot as plt\n",
    "import random\n",
    "\n",
    "from sklearn.preprocessing import OneHotEncoder, MinMaxScaler\n",
    "import tensorflow as tf\n",
    "from tensorflow import keras\n",
    "from keras import layers"
   ]
  },
  {
   "cell_type": "code",
   "execution_count": 3,
   "metadata": {},
   "outputs": [],
   "source": [
    "datos = pd.read_csv(\"C:\\\\Users\\\\crist\\\\Documents\\\\UNIVERSIDAD\\\\Semestre IX\\\\MachineLearning\\\\consignas\\\\RepoEntregaTres\\\\dataset_salariosLimpio.csv\",\n",
    "                              delimiter= \",\", decimal= \".\")"
   ]
  },
  {
   "cell_type": "code",
   "execution_count": 4,
   "metadata": {},
   "outputs": [
    {
     "name": "stdout",
     "output_type": "stream",
     "text": [
      "<class 'pandas.core.frame.DataFrame'>\n",
      "RangeIndex: 30042 entries, 0 to 30041\n",
      "Data columns (total 11 columns):\n",
      " #   Column          Non-Null Count  Dtype \n",
      "---  ------          --------------  ----- \n",
      " 0   age             30042 non-null  int64 \n",
      " 1   workclass       30042 non-null  object\n",
      " 2   education       30042 non-null  object\n",
      " 3   marital_status  30042 non-null  object\n",
      " 4   occupation      30042 non-null  object\n",
      " 5   relationship    30042 non-null  object\n",
      " 6   race            30042 non-null  object\n",
      " 7   sex             30042 non-null  object\n",
      " 8   hours_per_week  30042 non-null  int64 \n",
      " 9   native_country  30042 non-null  object\n",
      " 10  income          30042 non-null  object\n",
      "dtypes: int64(2), object(9)\n",
      "memory usage: 2.5+ MB\n"
     ]
    }
   ],
   "source": [
    "datos.info()"
   ]
  },
  {
   "attachments": {},
   "cell_type": "markdown",
   "metadata": {},
   "source": [
    "# 3 Data recode"
   ]
  },
  {
   "attachments": {},
   "cell_type": "markdown",
   "metadata": {},
   "source": [
    "Aqui va lo de balancear el dataset, tambian lo de cambio de nombres de las variables, o en clean, (me cuesta mirar donde ubicar el rename de las variables) tabien se vuelan aqui las variables que presenten 0 en la tabla de relación"
   ]
  },
  {
   "attachments": {},
   "cell_type": "markdown",
   "metadata": {},
   "source": [
    "# Es neceasario balancear?"
   ]
  },
  {
   "attachments": {},
   "cell_type": "markdown",
   "metadata": {},
   "source": [
    "Se comprueba el conteo de los valores de salida del dataset"
   ]
  },
  {
   "cell_type": "code",
   "execution_count": 5,
   "metadata": {},
   "outputs": [
    {
     "data": {
      "text/plain": [
       "<=50K    22558\n",
       ">50K      7484\n",
       "Name: income, dtype: int64"
      ]
     },
     "execution_count": 5,
     "metadata": {},
     "output_type": "execute_result"
    }
   ],
   "source": [
    "datos[\"income\"].value_counts()"
   ]
  },
  {
   "attachments": {},
   "cell_type": "markdown",
   "metadata": {},
   "source": [
    "Se nota el desbalance y se procede con la tecnica de la calculadora revisar que tendremos que restar un error de 1.27% al final"
   ]
  },
  {
   "cell_type": "code",
   "execution_count": 6,
   "metadata": {},
   "outputs": [
    {
     "name": "stdout",
     "output_type": "stream",
     "text": [
      "<class 'pandas.core.frame.DataFrame'>\n",
      "RangeIndex: 14968 entries, 0 to 14967\n",
      "Data columns (total 12 columns):\n",
      " #   Column          Non-Null Count  Dtype \n",
      "---  ------          --------------  ----- \n",
      " 0   index           14968 non-null  int64 \n",
      " 1   age             14968 non-null  int64 \n",
      " 2   workclass       14968 non-null  object\n",
      " 3   education       14968 non-null  object\n",
      " 4   marital_status  14968 non-null  object\n",
      " 5   occupation      14968 non-null  object\n",
      " 6   relationship    14968 non-null  object\n",
      " 7   race            14968 non-null  object\n",
      " 8   sex             14968 non-null  object\n",
      " 9   hours_per_week  14968 non-null  int64 \n",
      " 10  native_country  14968 non-null  object\n",
      " 11  income          14968 non-null  object\n",
      "dtypes: int64(3), object(9)\n",
      "memory usage: 1.4+ MB\n"
     ]
    }
   ],
   "source": [
    "indices_menores = datos[datos.income==\"<=50K\"].sample(7484).index\n",
    "datos_menores   = datos.iloc[indices_menores,]\n",
    "indices_mayores = datos[datos.income==\">50K\"].index\n",
    "datos_mayores   = datos.iloc[indices_mayores,]\n",
    "\n",
    "datos_analisis = pd.concat([datos_menores, datos_mayores])\n",
    "datos_analisis = datos_analisis.sample(len(datos_analisis))\n",
    "datos_analisis.reset_index(inplace=True)\n",
    "datos_analisis.info()"
   ]
  },
  {
   "cell_type": "code",
   "execution_count": 7,
   "metadata": {},
   "outputs": [
    {
     "data": {
      "text/plain": [
       ">50K     7484\n",
       "<=50K    7484\n",
       "Name: income, dtype: int64"
      ]
     },
     "execution_count": 7,
     "metadata": {},
     "output_type": "execute_result"
    }
   ],
   "source": [
    "datos_analisis[\"income\"].value_counts()"
   ]
  },
  {
   "attachments": {},
   "cell_type": "markdown",
   "metadata": {},
   "source": [
    "# Analisis de las variables para Eliminar aquellas que no presentan relacion con la variable de salida"
   ]
  },
  {
   "attachments": {},
   "cell_type": "markdown",
   "metadata": {},
   "source": [
    "---\n",
    "***Variables categoricas***\n",
    "\n",
    "---"
   ]
  },
  {
   "cell_type": "markdown",
   "metadata": {},
   "source": [
    "---\n",
    "***Variable workclass frente a income***\n",
    "\n",
    "---"
   ]
  },
  {
   "cell_type": "code",
   "execution_count": 11,
   "metadata": {},
   "outputs": [
    {
     "data": {
      "text/html": [
       "<div>\n",
       "<style scoped>\n",
       "    .dataframe tbody tr th:only-of-type {\n",
       "        vertical-align: middle;\n",
       "    }\n",
       "\n",
       "    .dataframe tbody tr th {\n",
       "        vertical-align: top;\n",
       "    }\n",
       "\n",
       "    .dataframe thead th {\n",
       "        text-align: right;\n",
       "    }\n",
       "</style>\n",
       "<table border=\"1\" class=\"dataframe\">\n",
       "  <thead>\n",
       "    <tr style=\"text-align: right;\">\n",
       "      <th>workclass</th>\n",
       "      <th>Federal-gov</th>\n",
       "      <th>Local-gov</th>\n",
       "      <th>Private</th>\n",
       "      <th>Self-emp-inc</th>\n",
       "      <th>Self-emp-not-inc</th>\n",
       "      <th>State-gov</th>\n",
       "    </tr>\n",
       "    <tr>\n",
       "      <th>income</th>\n",
       "      <th></th>\n",
       "      <th></th>\n",
       "      <th></th>\n",
       "      <th></th>\n",
       "      <th></th>\n",
       "      <th></th>\n",
       "    </tr>\n",
       "  </thead>\n",
       "  <tbody>\n",
       "    <tr>\n",
       "      <th>&lt;=50K</th>\n",
       "      <td>183</td>\n",
       "      <td>475</td>\n",
       "      <td>5794</td>\n",
       "      <td>145</td>\n",
       "      <td>584</td>\n",
       "      <td>301</td>\n",
       "    </tr>\n",
       "    <tr>\n",
       "      <th>&gt;50K</th>\n",
       "      <td>364</td>\n",
       "      <td>608</td>\n",
       "      <td>4866</td>\n",
       "      <td>591</td>\n",
       "      <td>711</td>\n",
       "      <td>344</td>\n",
       "    </tr>\n",
       "  </tbody>\n",
       "</table>\n",
       "</div>"
      ],
      "text/plain": [
       "workclass  Federal-gov  Local-gov  Private  Self-emp-inc  Self-emp-not-inc  \\\n",
       "income                                                                       \n",
       "<=50K              183        475     5794           145               584   \n",
       ">50K               364        608     4866           591               711   \n",
       "\n",
       "workclass  State-gov  \n",
       "income                \n",
       "<=50K            301  \n",
       ">50K             344  "
      ]
     },
     "execution_count": 11,
     "metadata": {},
     "output_type": "execute_result"
    }
   ],
   "source": [
    "pd.crosstab(datos_analisis.income, datos_analisis.workclass)"
   ]
  },
  {
   "attachments": {},
   "cell_type": "markdown",
   "metadata": {},
   "source": [
    "Without-pay tiene un 0 en relacion con mayores a 50K, por lo tanto se decide eliminar, queda pendiente Self-emp-inc que esta dudosa "
   ]
  },
  {
   "cell_type": "code",
   "execution_count": 10,
   "metadata": {},
   "outputs": [],
   "source": [
    "datos_analisis.drop(datos_analisis.loc[datos_analisis['workclass'] == 'Without-pay'].index, inplace=True)"
   ]
  },
  {
   "attachments": {},
   "cell_type": "markdown",
   "metadata": {},
   "source": [
    "---\n",
    "***Variable education frente a income***\n",
    "\n",
    "---"
   ]
  },
  {
   "cell_type": "code",
   "execution_count": 14,
   "metadata": {},
   "outputs": [
    {
     "data": {
      "text/html": [
       "<div>\n",
       "<style scoped>\n",
       "    .dataframe tbody tr th:only-of-type {\n",
       "        vertical-align: middle;\n",
       "    }\n",
       "\n",
       "    .dataframe tbody tr th {\n",
       "        vertical-align: top;\n",
       "    }\n",
       "\n",
       "    .dataframe thead th {\n",
       "        text-align: right;\n",
       "    }\n",
       "</style>\n",
       "<table border=\"1\" class=\"dataframe\">\n",
       "  <thead>\n",
       "    <tr style=\"text-align: right;\">\n",
       "      <th>education</th>\n",
       "      <th>10th</th>\n",
       "      <th>11th</th>\n",
       "      <th>12th</th>\n",
       "      <th>5th-6th</th>\n",
       "      <th>7th-8th</th>\n",
       "      <th>9th</th>\n",
       "      <th>Assoc-acdm</th>\n",
       "      <th>Assoc-voc</th>\n",
       "      <th>Bachelors</th>\n",
       "      <th>Doctorate</th>\n",
       "      <th>HS-grad</th>\n",
       "      <th>Masters</th>\n",
       "      <th>Prof-school</th>\n",
       "      <th>Some-college</th>\n",
       "    </tr>\n",
       "    <tr>\n",
       "      <th>income</th>\n",
       "      <th></th>\n",
       "      <th></th>\n",
       "      <th></th>\n",
       "      <th></th>\n",
       "      <th></th>\n",
       "      <th></th>\n",
       "      <th></th>\n",
       "      <th></th>\n",
       "      <th></th>\n",
       "      <th></th>\n",
       "      <th></th>\n",
       "      <th></th>\n",
       "      <th></th>\n",
       "      <th></th>\n",
       "    </tr>\n",
       "  </thead>\n",
       "  <tbody>\n",
       "    <tr>\n",
       "      <th>&lt;=50K</th>\n",
       "      <td>288</td>\n",
       "      <td>349</td>\n",
       "      <td>112</td>\n",
       "      <td>92</td>\n",
       "      <td>147</td>\n",
       "      <td>142</td>\n",
       "      <td>238</td>\n",
       "      <td>312</td>\n",
       "      <td>941</td>\n",
       "      <td>36</td>\n",
       "      <td>2726</td>\n",
       "      <td>221</td>\n",
       "      <td>45</td>\n",
       "      <td>1778</td>\n",
       "    </tr>\n",
       "    <tr>\n",
       "      <th>&gt;50K</th>\n",
       "      <td>58</td>\n",
       "      <td>59</td>\n",
       "      <td>28</td>\n",
       "      <td>12</td>\n",
       "      <td>35</td>\n",
       "      <td>25</td>\n",
       "      <td>256</td>\n",
       "      <td>343</td>\n",
       "      <td>2118</td>\n",
       "      <td>278</td>\n",
       "      <td>1613</td>\n",
       "      <td>915</td>\n",
       "      <td>404</td>\n",
       "      <td>1334</td>\n",
       "    </tr>\n",
       "  </tbody>\n",
       "</table>\n",
       "</div>"
      ],
      "text/plain": [
       "education  10th  11th  12th  5th-6th  7th-8th  9th  Assoc-acdm  Assoc-voc  \\\n",
       "income                                                                      \n",
       "<=50K       288   349   112       92      147  142         238        312   \n",
       ">50K         58    59    28       12       35   25         256        343   \n",
       "\n",
       "education  Bachelors  Doctorate  HS-grad  Masters  Prof-school  Some-college  \n",
       "income                                                                        \n",
       "<=50K            941         36     2726      221           45          1778  \n",
       ">50K            2118        278     1613      915          404          1334  "
      ]
     },
     "execution_count": 14,
     "metadata": {},
     "output_type": "execute_result"
    }
   ],
   "source": [
    "pd.crosstab(datos_analisis.income, datos_analisis.education)"
   ]
  },
  {
   "cell_type": "code",
   "execution_count": 13,
   "metadata": {},
   "outputs": [],
   "source": [
    "datos_analisis.drop(datos_analisis.loc[datos_analisis['education'] == 'Preschool'].index, inplace=True)\n",
    "datos_analisis.drop(datos_analisis.loc[datos_analisis['education'] == '1st-4th'].index, inplace=True)"
   ]
  },
  {
   "attachments": {},
   "cell_type": "markdown",
   "metadata": {},
   "source": [
    "Preschool - 1st-4th tiene un 0 en relacion con mayores a 50K, por lo tanto se decide eliminar, \n",
    "quedan pendientes:\n",
    "- 10th\n",
    "- 11th\n",
    "- 12th\n",
    "- 7th-8th\n",
    "- 5th-6th\n",
    "- 9th\n",
    "- Bachelors\n",
    "- Doctorate\n",
    "- Masters\n",
    "- Prof-school"
   ]
  },
  {
   "attachments": {},
   "cell_type": "markdown",
   "metadata": {},
   "source": [
    "---\n",
    "***Variable marital_status frente a income***\n",
    "\n",
    "---"
   ]
  },
  {
   "cell_type": "code",
   "execution_count": 15,
   "metadata": {},
   "outputs": [
    {
     "data": {
      "text/html": [
       "<div>\n",
       "<style scoped>\n",
       "    .dataframe tbody tr th:only-of-type {\n",
       "        vertical-align: middle;\n",
       "    }\n",
       "\n",
       "    .dataframe tbody tr th {\n",
       "        vertical-align: top;\n",
       "    }\n",
       "\n",
       "    .dataframe thead th {\n",
       "        text-align: right;\n",
       "    }\n",
       "</style>\n",
       "<table border=\"1\" class=\"dataframe\">\n",
       "  <thead>\n",
       "    <tr style=\"text-align: right;\">\n",
       "      <th>marital_status</th>\n",
       "      <th>Divorced</th>\n",
       "      <th>Married-AF-spouse</th>\n",
       "      <th>Married-civ-spouse</th>\n",
       "      <th>Married-spouse-absent</th>\n",
       "      <th>Never-married</th>\n",
       "      <th>Separated</th>\n",
       "      <th>Widowed</th>\n",
       "    </tr>\n",
       "    <tr>\n",
       "      <th>income</th>\n",
       "      <th></th>\n",
       "      <th></th>\n",
       "      <th></th>\n",
       "      <th></th>\n",
       "      <th></th>\n",
       "      <th></th>\n",
       "      <th></th>\n",
       "    </tr>\n",
       "  </thead>\n",
       "  <tbody>\n",
       "    <tr>\n",
       "      <th>&lt;=50K</th>\n",
       "      <td>1212</td>\n",
       "      <td>7</td>\n",
       "      <td>2527</td>\n",
       "      <td>111</td>\n",
       "      <td>3047</td>\n",
       "      <td>296</td>\n",
       "      <td>227</td>\n",
       "    </tr>\n",
       "    <tr>\n",
       "      <th>&gt;50K</th>\n",
       "      <td>452</td>\n",
       "      <td>10</td>\n",
       "      <td>6375</td>\n",
       "      <td>31</td>\n",
       "      <td>468</td>\n",
       "      <td>66</td>\n",
       "      <td>76</td>\n",
       "    </tr>\n",
       "  </tbody>\n",
       "</table>\n",
       "</div>"
      ],
      "text/plain": [
       "marital_status  Divorced  Married-AF-spouse  Married-civ-spouse  \\\n",
       "income                                                            \n",
       "<=50K               1212                  7                2527   \n",
       ">50K                 452                 10                6375   \n",
       "\n",
       "marital_status  Married-spouse-absent  Never-married  Separated  Widowed  \n",
       "income                                                                    \n",
       "<=50K                             111           3047        296      227  \n",
       ">50K                               31            468         66       76  "
      ]
     },
     "execution_count": 15,
     "metadata": {},
     "output_type": "execute_result"
    }
   ],
   "source": [
    "pd.crosstab(datos_analisis.income, datos_analisis.marital_status)"
   ]
  },
  {
   "attachments": {},
   "cell_type": "markdown",
   "metadata": {},
   "source": []
  }
 ],
 "metadata": {
  "kernelspec": {
   "display_name": "machine",
   "language": "python",
   "name": "python3"
  },
  "language_info": {
   "codemirror_mode": {
    "name": "ipython",
    "version": 3
   },
   "file_extension": ".py",
   "mimetype": "text/x-python",
   "name": "python",
   "nbconvert_exporter": "python",
   "pygments_lexer": "ipython3",
   "version": "3.9.16"
  },
  "orig_nbformat": 4
 },
 "nbformat": 4,
 "nbformat_minor": 2
}
