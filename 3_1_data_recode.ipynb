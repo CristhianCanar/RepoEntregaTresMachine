{
 "cells": [
  {
   "cell_type": "code",
   "execution_count": 1,
   "metadata": {},
   "outputs": [],
   "source": [
    "import pandas as pd\n",
    "import numpy as np\n",
    "import seaborn as sns\n",
    "import matplotlib.pyplot as plt\n",
    "import random\n",
    "\n",
    "from sklearn.preprocessing import OneHotEncoder, MinMaxScaler\n",
    "import tensorflow as tf\n",
    "from tensorflow import keras\n",
    "from keras import layers"
   ]
  },
  {
   "cell_type": "code",
   "execution_count": 2,
   "metadata": {},
   "outputs": [],
   "source": [
    "datos = pd.read_csv(\"C:\\\\Users\\\\crist\\\\Documents\\\\UNIVERSIDAD\\\\Semestre IX\\\\MachineLearning\\\\consignas\\\\RepoEntregaTres\\\\data_for_clean.csv\",\n",
    "                              delimiter= \",\", decimal= \".\")"
   ]
  },
  {
   "cell_type": "code",
   "execution_count": 3,
   "metadata": {},
   "outputs": [
    {
     "name": "stdout",
     "output_type": "stream",
     "text": [
      "<class 'pandas.core.frame.DataFrame'>\n",
      "RangeIndex: 15682 entries, 0 to 15681\n",
      "Data columns (total 16 columns):\n",
      " #   Column          Non-Null Count  Dtype \n",
      "---  ------          --------------  ----- \n",
      " 0   index           15682 non-null  int64 \n",
      " 1   age             15682 non-null  int64 \n",
      " 2   workclass       15682 non-null  object\n",
      " 3   fnlwgt          15682 non-null  int64 \n",
      " 4   education       15682 non-null  object\n",
      " 5   education_num   15682 non-null  int64 \n",
      " 6   marital_status  15682 non-null  object\n",
      " 7   occupation      15682 non-null  object\n",
      " 8   relationship    15682 non-null  object\n",
      " 9   race            15682 non-null  object\n",
      " 10  sex             15682 non-null  object\n",
      " 11  capital_gain    15682 non-null  int64 \n",
      " 12  capital_loss    15682 non-null  int64 \n",
      " 13  hours_per_week  15682 non-null  int64 \n",
      " 14  native_country  15682 non-null  object\n",
      " 15  income          15682 non-null  object\n",
      "dtypes: int64(7), object(9)\n",
      "memory usage: 1.9+ MB\n"
     ]
    }
   ],
   "source": [
    "datos.info()"
   ]
  },
  {
   "cell_type": "code",
   "execution_count": null,
   "metadata": {},
   "outputs": [],
   "source": []
  },
  {
   "cell_type": "code",
   "execution_count": 5,
   "metadata": {},
   "outputs": [
    {
     "data": {
      "text/html": [
       "<div>\n",
       "<style scoped>\n",
       "    .dataframe tbody tr th:only-of-type {\n",
       "        vertical-align: middle;\n",
       "    }\n",
       "\n",
       "    .dataframe tbody tr th {\n",
       "        vertical-align: top;\n",
       "    }\n",
       "\n",
       "    .dataframe thead th {\n",
       "        text-align: right;\n",
       "    }\n",
       "</style>\n",
       "<table border=\"1\" class=\"dataframe\">\n",
       "  <thead>\n",
       "    <tr style=\"text-align: right;\">\n",
       "      <th>workclass</th>\n",
       "      <th>?</th>\n",
       "      <th>Federal-gov</th>\n",
       "      <th>Local-gov</th>\n",
       "      <th>Never-worked</th>\n",
       "      <th>Private</th>\n",
       "      <th>Self-emp-inc</th>\n",
       "      <th>Self-emp-not-inc</th>\n",
       "      <th>State-gov</th>\n",
       "      <th>Without-pay</th>\n",
       "    </tr>\n",
       "    <tr>\n",
       "      <th>income</th>\n",
       "      <th></th>\n",
       "      <th></th>\n",
       "      <th></th>\n",
       "      <th></th>\n",
       "      <th></th>\n",
       "      <th></th>\n",
       "      <th></th>\n",
       "      <th></th>\n",
       "      <th></th>\n",
       "    </tr>\n",
       "  </thead>\n",
       "  <tbody>\n",
       "    <tr>\n",
       "      <th>&lt;=50K</th>\n",
       "      <td>517</td>\n",
       "      <td>193</td>\n",
       "      <td>481</td>\n",
       "      <td>2</td>\n",
       "      <td>5625</td>\n",
       "      <td>152</td>\n",
       "      <td>582</td>\n",
       "      <td>285</td>\n",
       "      <td>4</td>\n",
       "    </tr>\n",
       "    <tr>\n",
       "      <th>&gt;50K</th>\n",
       "      <td>191</td>\n",
       "      <td>371</td>\n",
       "      <td>617</td>\n",
       "      <td>0</td>\n",
       "      <td>4963</td>\n",
       "      <td>622</td>\n",
       "      <td>724</td>\n",
       "      <td>353</td>\n",
       "      <td>0</td>\n",
       "    </tr>\n",
       "  </tbody>\n",
       "</table>\n",
       "</div>"
      ],
      "text/plain": [
       "workclass    ?  Federal-gov  Local-gov  Never-worked  Private  Self-emp-inc  \\\n",
       "income                                                                        \n",
       "<=50K      517          193        481             2     5625           152   \n",
       ">50K       191          371        617             0     4963           622   \n",
       "\n",
       "workclass  Self-emp-not-inc  State-gov  Without-pay  \n",
       "income                                               \n",
       "<=50K                   582        285            4  \n",
       ">50K                    724        353            0  "
      ]
     },
     "execution_count": 5,
     "metadata": {},
     "output_type": "execute_result"
    }
   ],
   "source": [
    "pd.crosstab(datos.income, datos.workclass)"
   ]
  },
  {
   "cell_type": "code",
   "execution_count": null,
   "metadata": {},
   "outputs": [],
   "source": []
  }
 ],
 "metadata": {
  "kernelspec": {
   "display_name": "machine",
   "language": "python",
   "name": "python3"
  },
  "language_info": {
   "codemirror_mode": {
    "name": "ipython",
    "version": 3
   },
   "file_extension": ".py",
   "mimetype": "text/x-python",
   "name": "python",
   "nbconvert_exporter": "python",
   "pygments_lexer": "ipython3",
   "version": "3.9.16"
  },
  "orig_nbformat": 4
 },
 "nbformat": 4,
 "nbformat_minor": 2
}
