{
 "cells": [
  {
   "cell_type": "code",
   "execution_count": null,
   "metadata": {
    "ExecuteTime": {
     "end_time": "2023-03-22T09:22:26.652334Z",
     "start_time": "2023-03-22T09:22:25.011986Z"
    }
   },
   "outputs": [],
   "source": [
    "import pandas as pd\n",
    "import numpy as np\n",
    "import seaborn as sns\n",
    "import matplotlib.pyplot as plt\n",
    "\n",
    "import tensorflow as tf\n",
    "from tensorflow import keras\n",
    "from tensorflow.keras import layers"
   ]
  },
  {
   "cell_type": "code",
   "execution_count": null,
   "metadata": {
    "ExecuteTime": {
     "end_time": "2023-03-22T09:22:26.787315Z",
     "start_time": "2023-03-22T09:22:26.653673Z"
    },
    "collapsed": false
   },
   "outputs": [],
   "source": [
    "!which python"
   ]
  },
  {
   "cell_type": "code",
   "execution_count": null,
   "metadata": {
    "ExecuteTime": {
     "end_time": "2023-03-22T09:22:26.801176Z",
     "start_time": "2023-03-22T09:22:26.792671Z"
    }
   },
   "outputs": [],
   "source": [
    "# 1. Data Load\n",
    "datos = pd.read_csv(\"../Data/Salario/Salary_Data.csv\")"
   ]
  },
  {
   "cell_type": "code",
   "execution_count": null,
   "metadata": {
    "ExecuteTime": {
     "end_time": "2023-03-22T09:22:26.817385Z",
     "start_time": "2023-03-22T09:22:26.800534Z"
    }
   },
   "outputs": [],
   "source": [
    "#2. Data clean\n",
    "datos.isna().sum()"
   ]
  },
  {
   "cell_type": "code",
   "execution_count": null,
   "metadata": {
    "ExecuteTime": {
     "end_time": "2023-03-22T09:22:26.826266Z",
     "start_time": "2023-03-22T09:22:26.815823Z"
    }
   },
   "outputs": [],
   "source": [
    "#Data recode"
   ]
  },
  {
   "cell_type": "code",
   "execution_count": null,
   "metadata": {
    "ExecuteTime": {
     "end_time": "2023-03-22T09:22:26.829155Z",
     "start_time": "2023-03-22T09:22:26.822082Z"
    }
   },
   "outputs": [],
   "source": [
    "# Data split\n",
    "df_entrenamiento = datos.sample(frac=0.8, random_state=0)\n",
    "df_pruebas = datos.drop(index=df_entrenamiento.index)"
   ]
  },
  {
   "cell_type": "code",
   "execution_count": null,
   "metadata": {
    "ExecuteTime": {
     "end_time": "2023-03-22T09:22:26.857642Z",
     "start_time": "2023-03-22T09:22:26.837531Z"
    }
   },
   "outputs": [],
   "source": [
    "# Data inspect\n",
    "df_stats_trainning = df_entrenamiento.describe()"
   ]
  },
  {
   "cell_type": "code",
   "execution_count": null,
   "metadata": {
    "ExecuteTime": {
     "end_time": "2023-03-22T09:22:26.858010Z",
     "start_time": "2023-03-22T09:22:26.844664Z"
    }
   },
   "outputs": [],
   "source": [
    "# Data Split IN/OUT\n",
    "\n",
    "output_df_entrenamiento = df_entrenamiento.pop(\"Salary\")\n",
    "input_df_entrenamiento = df_entrenamiento\n",
    "\n",
    "output_df_pruebas = df_pruebas.pop(\"Salary\")\n",
    "input_df_pruebas = df_pruebas"
   ]
  },
  {
   "cell_type": "code",
   "execution_count": null,
   "metadata": {
    "ExecuteTime": {
     "end_time": "2023-03-22T09:22:26.874441Z",
     "start_time": "2023-03-22T09:22:26.850738Z"
    }
   },
   "outputs": [],
   "source": [
    "# Normalized Data\n",
    "\n",
    "normed_df_entrenamiento = (input_df_entrenamiento - df_stats_trainning.loc[\"mean\",\"YearsExperience\"])/(df_stats_trainning.loc[\"std\",\"YearsExperience\"])\n",
    "normed_df_entrenamiento.describe()"
   ]
  },
  {
   "cell_type": "code",
   "execution_count": null,
   "metadata": {
    "ExecuteTime": {
     "end_time": "2023-03-22T08:36:01.605276Z",
     "start_time": "2023-03-22T08:36:01.387396Z"
    }
   },
   "outputs": [],
   "source": [
    "# Model Build\n",
    "\n",
    "modelo = keras.Sequential()\n",
    "modelo.add(layers.Dense(1, activation=\"linear\", input_shape=[len(normed_df_entrenamiento.keys()), ]))\n",
    "#modelo.add(layers.Dense(5, activation=\"sigmoid\"))\n",
    "#modelo.add(layers.Dense(1, activation=\"linear\"))\n",
    "\n",
    "alg_entrenamiento = keras.optimizers.RMSprop(learning_rate=200)\n",
    "modelo.compile(loss=\"mae\", metrics=[\"mae\", \"mse\"], optimizer=alg_entrenamiento)"
   ]
  },
  {
   "cell_type": "code",
   "execution_count": null,
   "metadata": {
    "ExecuteTime": {
     "end_time": "2023-03-22T09:22:57.416375Z",
     "start_time": "2023-03-22T09:22:57.410709Z"
    }
   },
   "outputs": [],
   "source": [
    "# Model preview\n",
    "modelo.summary()\n"
   ]
  },
  {
   "cell_type": "markdown",
   "metadata": {
    "collapsed": false
   },
   "source": []
  },
  {
   "cell_type": "code",
   "execution_count": null,
   "metadata": {
    "ExecuteTime": {
     "end_time": "2023-03-22T09:23:01.436243Z",
     "start_time": "2023-03-22T09:23:01.411084Z"
    }
   },
   "outputs": [],
   "source": [
    "# Model Probe\n",
    "modelo.predict(normed_df_entrenamiento[1:3])\n"
   ]
  },
  {
   "cell_type": "code",
   "execution_count": null,
   "metadata": {},
   "outputs": [],
   "source": [
    "history = modelo.fit(\n",
    "    normed_df_entrenamiento,\n",
    "    output_df_entrenamiento,\n",
    "    epochs=1000,\n",
    "    validation_split = 0.2,\n",
    "    verbose=1\n",
    ")"
   ]
  },
  {
   "cell_type": "code",
   "execution_count": null,
   "metadata": {},
   "outputs": [],
   "source": [
    "# Model Validation\n",
    "historico = pd.DataFrame(history.history)\n",
    "historico[\"Epochs\"] = history.epoch"
   ]
  },
  {
   "cell_type": "code",
   "execution_count": null,
   "metadata": {},
   "outputs": [],
   "source": [
    "ax001 = sns.lineplot(data=historico, x=\"Epochs\", y=\"loss\", label = \"Función de error\")\n",
    "ax001 = sns.lineplot(data=historico, x=\"Epochs\", y=\"val_loss\", label = \"Función de error en Validación\", ax = ax001)\n",
    "sns.move_legend(ax001, \"upper left\", bbox_to_anchor=(1, 1))"
   ]
  },
  {
   "cell_type": "code",
   "execution_count": null,
   "metadata": {},
   "outputs": [],
   "source": [
    "t1 = pd.DataFrame({\"YearsExperience\":(datos.YearsExperience.values - datos.YearsExperience.mean())/datos.YearsExperience.std()})\n",
    "datos[\"Estimated\"] = modelo.predict(t1)\n",
    "ax001 = sns.scatterplot(data=datos, x=\"YearsExperience\", y = \"Salary\", label=\"Datos Originales\")\n",
    "ax001 = sns.lineplot(data=datos, x=\"YearsExperience\", y = \"Estimated\", label=\"Datos Estimados\", ax = ax001)\n",
    "sns.move_legend(ax001, \"upper left\", bbox_to_anchor=(1, 1))"
   ]
  },
  {
   "cell_type": "code",
   "execution_count": null,
   "metadata": {},
   "outputs": [],
   "source": [
    "datos[\"Residuals\"] = datos[\"Salary\"]-datos[\"Estimated\"]\n",
    "ax002 = sns.scatterplot(data= datos, x=\"YearsExperience\", y = \"Residuals\")"
   ]
  },
  {
   "cell_type": "code",
   "execution_count": null,
   "metadata": {},
   "outputs": [],
   "source": [
    "import statsmodels.tsa.api as smt\n",
    "smt.graphics.plot_acf(datos[\"Residuals\"],lags=29,alpha=0.05,title=\"Análisis de Autocovarianza\")"
   ]
  }
 ],
 "metadata": {
  "kernelspec": {
   "display_name": "Python310env",
   "language": "python",
   "name": "python3"
  },
  "language_info": {
   "codemirror_mode": {
    "name": "ipython",
    "version": 3
   },
   "file_extension": ".py",
   "mimetype": "text/x-python",
   "name": "python",
   "nbconvert_exporter": "python",
   "pygments_lexer": "ipython3",
   "version": "3.10.9"
  },
  "orig_nbformat": 4
 },
 "nbformat": 4,
 "nbformat_minor": 2
}
